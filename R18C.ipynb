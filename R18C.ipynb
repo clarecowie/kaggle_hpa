{
 "cells": [
  {
   "cell_type": "code",
   "execution_count": 1,
   "metadata": {},
   "outputs": [],
   "source": [
    "%reload_ext autoreload\n",
    "%autoreload 2\n",
    "\n",
    "from fastai import *\n",
    "from fastai.vision import *\n",
    "from pathlib import Path\n",
    "import PIL\n",
    "import cv2\n",
    "\n",
    "from utils import *\n",
    "\n",
    "# from torch.utils.data.sampler import WeightedRandomSampler\n",
    "from imba_sampler import ImbalancedDatasetSampler\n",
    "\n",
    "torch.backends.cudnn.benchmark = False"
   ]
  },
  {
   "cell_type": "code",
   "execution_count": 2,
   "metadata": {},
   "outputs": [],
   "source": [
    "MASKS = 'train.csv'\n",
    "\n",
    "PATH = Path('./')\n",
    "TRAIN = Path('train512/')\n",
    "TEST = Path('test512/')\n",
    "TRAIN_AUG = Path('../aug/train/')\n",
    "\n",
    "SAMPLE = Path('sample_submission.csv')\n",
    "\n",
    "seg = pd.read_csv(PATH/MASKS)\n",
    "seg_aug = pd.read_csv('../aug/augment.csv', header=None)\n",
    "seg_aug.columns = seg.columns\n",
    "sample_sub = pd.read_csv(PATH/SAMPLE)\n",
    "train_names = list(seg.Id.values)\n",
    "test_names = list(sample_sub.Id.values)\n",
    "\n",
    "classes = [str(l) for l in range(28)]"
   ]
  },
  {
   "cell_type": "code",
   "execution_count": 3,
   "metadata": {},
   "outputs": [
    {
     "data": {
      "text/plain": [
       "99165"
      ]
     },
     "execution_count": 3,
     "metadata": {},
     "output_type": "execute_result"
    }
   ],
   "source": [
    "df = pd.read_csv('aug_train.csv'); len(df)"
   ]
  },
  {
   "cell_type": "markdown",
   "metadata": {},
   "source": [
    "# Resnet 18 style"
   ]
  },
  {
   "cell_type": "code",
   "execution_count": 4,
   "metadata": {},
   "outputs": [],
   "source": [
    "arch = models.resnet18;"
   ]
  },
  {
   "cell_type": "code",
   "execution_count": 5,
   "metadata": {},
   "outputs": [],
   "source": [
    "class ResLayer(nn.Module):\n",
    "    \"Resnet style `ResLayer`\"\n",
    "    def __init__(self, ni:int):\n",
    "        \"create ResLayer with `ni` inputs\"\n",
    "        super().__init__()\n",
    "        self.conv1=conv_layer(ni, ni, ks=3)\n",
    "        self.conv2=conv_layer(ni, ni, ks=3)\n",
    "\n",
    "    def forward(self, x): return x + self.conv2(self.conv1(x))\n",
    "\n",
    "class SEModule(nn.Module):\n",
    "    def __init__(self, ch, re=16):\n",
    "        super().__init__()\n",
    "        self.se = nn.Sequential(nn.AdaptiveAvgPool2d(1),\n",
    "                                 nn.Conv2d(ch,ch//re,1),\n",
    "                                 nn.ReLU(inplace=True),\n",
    "                                 nn.Conv2d(ch//re,ch,1),\n",
    "                                 nn.Sigmoid()\n",
    "                               )\n",
    "    def forward(self, x):\n",
    "        return x * self.se(x)\n",
    "    \n",
    "    \n",
    "class ResLayerSE(nn.Module):\n",
    "    \"Resnet style `ResLayer`\"\n",
    "    def __init__(self, ni:int):\n",
    "        \"create ResLayer with `ni` inputs\"\n",
    "        super().__init__()\n",
    "        self.conv1=conv_layer(ni, ni, ks=3)\n",
    "        self.conv2=conv_layer(ni, ni, ks=1)\n",
    "        \n",
    "        #SE block\n",
    "        self.SE = SEModule(ni)\n",
    "        \n",
    "    def forward(self, x): \n",
    "        return x + self.SE(self.conv2(self.conv1(x)))"
   ]
  },
  {
   "cell_type": "code",
   "execution_count": 6,
   "metadata": {},
   "outputs": [],
   "source": [
    "def head(in_c, out):\n",
    "    return nn.Sequential(ResLayerSE(in_c),\n",
    "                         AdaptiveConcatPool2d(),\n",
    "                         Flatten(),\n",
    "                         nn.BatchNorm1d(2*in_c, eps=1e-05, momentum=0.1, affine=True, track_running_stats=True),\n",
    "                         nn.Dropout(p=0.25),\n",
    "                         nn.Linear(in_features=2*in_c, out_features=in_c, bias=True),\n",
    "                         nn.ReLU(inplace=True),\n",
    "                         nn.BatchNorm1d(in_c, eps=1e-05, momentum=0.1, affine=True, track_running_stats=True),\n",
    "                         nn.Dropout(p=0.5),\n",
    "                         nn.Linear(in_features=in_c, out_features=out, bias=True)\n",
    "                        )"
   ]
  },
  {
   "cell_type": "code",
   "execution_count": 125,
   "metadata": {},
   "outputs": [],
   "source": [
    "# R18 = nn.Sequential(\n",
    "#     conv_layer(3, 64, ks=7, stride=2, padding=3),\n",
    "#     ResLayer(64),\n",
    "#     conv_layer(64, 128, ks=3, stride=2, padding=1),\n",
    "#     ResLayer(128),\n",
    "#     conv_layer(128, 256, ks=3, stride=2, padding=1),\n",
    "#     ResLayer(256),\n",
    "# #     conv_layer(256, 512, ks=3, stride=2, padding=1),\n",
    "# #     ResLayerSE(512),\n",
    "#     head(256, 28)\n",
    "# )"
   ]
  },
  {
   "cell_type": "markdown",
   "metadata": {},
   "source": [
    "# Load Body"
   ]
  },
  {
   "cell_type": "code",
   "execution_count": 126,
   "metadata": {},
   "outputs": [],
   "source": [
    "state_dict_body = OrderedDict()\n",
    "state_dict_head = OrderedDict()\n",
    "state_dict = torch.load('models/r18_512_brian_u.pth')"
   ]
  },
  {
   "cell_type": "code",
   "execution_count": 127,
   "metadata": {},
   "outputs": [
    {
     "data": {
      "text/plain": [
       "odict_keys(['0.0.weight', '0.1.weight', '0.1.bias', '0.1.running_mean', '0.1.running_var', '0.1.num_batches_tracked', '0.4.0.conv1.weight', '0.4.0.bn1.weight', '0.4.0.bn1.bias', '0.4.0.bn1.running_mean', '0.4.0.bn1.running_var', '0.4.0.bn1.num_batches_tracked', '0.4.0.conv2.weight', '0.4.0.bn2.weight', '0.4.0.bn2.bias', '0.4.0.bn2.running_mean', '0.4.0.bn2.running_var', '0.4.0.bn2.num_batches_tracked', '0.4.1.conv1.weight', '0.4.1.bn1.weight', '0.4.1.bn1.bias', '0.4.1.bn1.running_mean', '0.4.1.bn1.running_var', '0.4.1.bn1.num_batches_tracked', '0.4.1.conv2.weight', '0.4.1.bn2.weight', '0.4.1.bn2.bias', '0.4.1.bn2.running_mean', '0.4.1.bn2.running_var', '0.4.1.bn2.num_batches_tracked', '0.5.0.conv1.weight', '0.5.0.bn1.weight', '0.5.0.bn1.bias', '0.5.0.bn1.running_mean', '0.5.0.bn1.running_var', '0.5.0.bn1.num_batches_tracked', '0.5.0.conv2.weight', '0.5.0.bn2.weight', '0.5.0.bn2.bias', '0.5.0.bn2.running_mean', '0.5.0.bn2.running_var', '0.5.0.bn2.num_batches_tracked', '0.5.0.downsample.0.weight', '0.5.0.downsample.1.weight', '0.5.0.downsample.1.bias', '0.5.0.downsample.1.running_mean', '0.5.0.downsample.1.running_var', '0.5.0.downsample.1.num_batches_tracked', '0.5.1.conv1.weight', '0.5.1.bn1.weight', '0.5.1.bn1.bias', '0.5.1.bn1.running_mean', '0.5.1.bn1.running_var', '0.5.1.bn1.num_batches_tracked', '0.5.1.conv2.weight', '0.5.1.bn2.weight', '0.5.1.bn2.bias', '0.5.1.bn2.running_mean', '0.5.1.bn2.running_var', '0.5.1.bn2.num_batches_tracked', '0.6.0.conv1.weight', '0.6.0.bn1.weight', '0.6.0.bn1.bias', '0.6.0.bn1.running_mean', '0.6.0.bn1.running_var', '0.6.0.bn1.num_batches_tracked', '0.6.0.conv2.weight', '0.6.0.bn2.weight', '0.6.0.bn2.bias', '0.6.0.bn2.running_mean', '0.6.0.bn2.running_var', '0.6.0.bn2.num_batches_tracked', '0.6.0.downsample.0.weight', '0.6.0.downsample.1.weight', '0.6.0.downsample.1.bias', '0.6.0.downsample.1.running_mean', '0.6.0.downsample.1.running_var', '0.6.0.downsample.1.num_batches_tracked', '0.6.1.conv1.weight', '0.6.1.bn1.weight', '0.6.1.bn1.bias', '0.6.1.bn1.running_mean', '0.6.1.bn1.running_var', '0.6.1.bn1.num_batches_tracked', '0.6.1.conv2.weight', '0.6.1.bn2.weight', '0.6.1.bn2.bias', '0.6.1.bn2.running_mean', '0.6.1.bn2.running_var', '0.6.1.bn2.num_batches_tracked', '0.7.0.conv1.weight', '0.7.0.bn1.weight', '0.7.0.bn1.bias', '0.7.0.bn1.running_mean', '0.7.0.bn1.running_var', '0.7.0.bn1.num_batches_tracked', '0.7.0.conv2.weight', '0.7.0.bn2.weight', '0.7.0.bn2.bias', '0.7.0.bn2.running_mean', '0.7.0.bn2.running_var', '0.7.0.bn2.num_batches_tracked', '0.7.0.downsample.0.weight', '0.7.0.downsample.1.weight', '0.7.0.downsample.1.bias', '0.7.0.downsample.1.running_mean', '0.7.0.downsample.1.running_var', '0.7.0.downsample.1.num_batches_tracked', '0.7.1.conv1.weight', '0.7.1.bn1.weight', '0.7.1.bn1.bias', '0.7.1.bn1.running_mean', '0.7.1.bn1.running_var', '0.7.1.bn1.num_batches_tracked', '0.7.1.conv2.weight', '0.7.1.bn2.weight', '0.7.1.bn2.bias', '0.7.1.bn2.running_mean', '0.7.1.bn2.running_var', '0.7.1.bn2.num_batches_tracked', '1.2.weight', '1.2.bias', '1.2.running_mean', '1.2.running_var', '1.2.num_batches_tracked', '1.4.weight', '1.4.bias', '1.6.weight', '1.6.bias', '1.6.running_mean', '1.6.running_var', '1.6.num_batches_tracked', '1.8.weight', '1.8.bias'])"
      ]
     },
     "execution_count": 127,
     "metadata": {},
     "output_type": "execute_result"
    }
   ],
   "source": [
    "state_dict['model'].keys()"
   ]
  },
  {
   "cell_type": "code",
   "execution_count": 128,
   "metadata": {},
   "outputs": [],
   "source": [
    "r18 = create_body(arch)"
   ]
  },
  {
   "cell_type": "code",
   "execution_count": 129,
   "metadata": {},
   "outputs": [],
   "source": [
    "for k, v in state_dict['model'].items():\n",
    "    \n",
    "    if k[0]=='0':\n",
    "        name = k[2:] \n",
    "        state_dict_body[name] = v\n",
    "    else:\n",
    "        state_dict_head[k] = v\n",
    "        "
   ]
  },
  {
   "cell_type": "code",
   "execution_count": 130,
   "metadata": {},
   "outputs": [],
   "source": [
    "r18.load_state_dict(state_dict_body)"
   ]
  },
  {
   "cell_type": "markdown",
   "metadata": {},
   "source": [
    "# Load Head"
   ]
  },
  {
   "cell_type": "code",
   "execution_count": 131,
   "metadata": {},
   "outputs": [
    {
     "data": {
      "text/plain": [
       "odict_keys(['1.2.weight', '1.2.bias', '1.2.running_mean', '1.2.running_var', '1.2.num_batches_tracked', '1.4.weight', '1.4.bias', '1.6.weight', '1.6.bias', '1.6.running_mean', '1.6.running_var', '1.6.num_batches_tracked', '1.8.weight', '1.8.bias'])"
      ]
     },
     "execution_count": 131,
     "metadata": {},
     "output_type": "execute_result"
    }
   ],
   "source": [
    "state_dict_head.keys()"
   ]
  },
  {
   "cell_type": "code",
   "execution_count": 7,
   "metadata": {},
   "outputs": [],
   "source": [
    "chead = head(512,28)"
   ]
  },
  {
   "cell_type": "code",
   "execution_count": 133,
   "metadata": {},
   "outputs": [
    {
     "data": {
      "text/plain": [
       "odict_keys(['0.conv1.0.weight', '0.conv1.2.weight', '0.conv1.2.bias', '0.conv1.2.running_mean', '0.conv1.2.running_var', '0.conv1.2.num_batches_tracked', '0.conv2.0.weight', '0.conv2.2.weight', '0.conv2.2.bias', '0.conv2.2.running_mean', '0.conv2.2.running_var', '0.conv2.2.num_batches_tracked', '0.SE.se.1.weight', '0.SE.se.1.bias', '0.SE.se.3.weight', '0.SE.se.3.bias', '3.weight', '3.bias', '3.running_mean', '3.running_var', '3.num_batches_tracked', '5.weight', '5.bias', '7.weight', '7.bias', '7.running_mean', '7.running_var', '7.num_batches_tracked', '9.weight', '9.bias'])"
      ]
     },
     "execution_count": 133,
     "metadata": {},
     "output_type": "execute_result"
    }
   ],
   "source": [
    "chead.state_dict().keys()"
   ]
  },
  {
   "cell_type": "code",
   "execution_count": 134,
   "metadata": {},
   "outputs": [],
   "source": [
    "keys = list(chead.state_dict().keys())"
   ]
  },
  {
   "cell_type": "code",
   "execution_count": 135,
   "metadata": {},
   "outputs": [],
   "source": [
    "se_keys = keys[:-14]\n",
    "\n",
    "new_keys = keys[-14:]\n",
    "\n",
    "old_keys = ['1.2.weight', '1.2.bias', '1.2.running_mean', '1.2.running_var', '1.2.num_batches_tracked', \n",
    "            '1.4.weight', '1.4.bias', '1.6.weight', '1.6.bias', '1.6.running_mean', '1.6.running_var', \n",
    "            '1.6.num_batches_tracked', '1.8.weight', '1.8.bias']"
   ]
  },
  {
   "cell_type": "code",
   "execution_count": 136,
   "metadata": {},
   "outputs": [],
   "source": [
    "new_state_dict_head = OrderedDict()\n",
    "\n",
    "for k in se_keys:\n",
    "    new_state_dict_head[k]=chead.state_dict()[k]\n",
    "\n",
    "for k1,k2 in zip(new_keys, old_keys):\n",
    "    new_state_dict_head[k1]=state_dict_head[k2]\n",
    "\n"
   ]
  },
  {
   "cell_type": "code",
   "execution_count": 137,
   "metadata": {},
   "outputs": [],
   "source": [
    "chead.load_state_dict(new_state_dict_head)"
   ]
  },
  {
   "cell_type": "markdown",
   "metadata": {},
   "source": [
    "Model Defs"
   ]
  },
  {
   "cell_type": "code",
   "execution_count": 8,
   "metadata": {},
   "outputs": [],
   "source": [
    "stats = ([0.08069, 0.05258, 0.05487], [0.13704,0.10145, 0.15313])\n",
    "tfms = get_transforms(do_flip=True, flip_vert=True, \n",
    "                      max_lighting=0.1, max_warp=0.4)"
   ]
  },
  {
   "cell_type": "code",
   "execution_count": 9,
   "metadata": {},
   "outputs": [],
   "source": [
    "def get_data(sz=64, bs=64, pct=0.2, sample=5000):\n",
    "#     sz, pct, bs = 64, 0.2, 64\n",
    "    src = (ImageItemList.from_df(df=df, path=PATH, folder=TRAIN_AUG, suffix='.png')\n",
    "           .random_split_by_pct(pct)\n",
    "           .label_from_df(sep=' ', classes=classes)\n",
    "           .add_test([TEST/(f+'.png') for f in test_names]))\n",
    "    data = (src.transform(tfms, size=sz))\n",
    "    #         .databunch(bs=bs).normalize(stats))\n",
    "\n",
    "    test_ds = data.test\n",
    "    train_ds, val_ds = data.train, data.valid\n",
    "    datasets = [train_ds,val_ds, test_ds]\n",
    "    sampler = ImbalancedDatasetSampler(datasets[0], num_samples=sample)\n",
    "    train_dl = DataLoader(datasets[0], bs, sampler=sampler, num_workers=12)\n",
    "    val_dl = DataLoader(datasets[1], 2*bs, False, num_workers=8)\n",
    "    test_dl = DataLoader(datasets[2], 2*bs, False, num_workers=8)\n",
    "\n",
    "    return ImageDataBunch(train_dl=train_dl, valid_dl=val_dl, test_dl=test_dl).normalize(stats)"
   ]
  },
  {
   "cell_type": "code",
   "execution_count": 10,
   "metadata": {},
   "outputs": [],
   "source": [
    "def get_learner(data, focal=False, fp16=False):\n",
    "    learn = create_cnn(data, arch, custom_head = chead, metrics=[accuracy_thresh, f1], \n",
    "               callback_fns=[partial(GradientClipping, clip=0.1), ShowGraph])\n",
    "    if focal: learn.loss_func = FocalLoss()\n",
    "    if fp16: learn.to_fp16();\n",
    "#     learn.split((arch.layers[9],arch.layers[13]))  #Split for 444 model [11,20]\n",
    "    return learn.mixup(stack_y=False)"
   ]
  },
  {
   "cell_type": "markdown",
   "metadata": {},
   "source": [
    "# 256"
   ]
  },
  {
   "cell_type": "code",
   "execution_count": 141,
   "metadata": {},
   "outputs": [],
   "source": [
    "data = get_data(256, 128, 0.1, sample=None)"
   ]
  },
  {
   "cell_type": "code",
   "execution_count": 142,
   "metadata": {},
   "outputs": [],
   "source": [
    "learn = get_learner(data, focal=True, fp16=True)"
   ]
  },
  {
   "cell_type": "code",
   "execution_count": 143,
   "metadata": {},
   "outputs": [
    {
     "name": "stdout",
     "output_type": "stream",
     "text": [
      "LR Finder is complete, type {learner_name}.recorder.plot() to see the graph.\n"
     ]
    }
   ],
   "source": [
    "learn.lr_find()"
   ]
  },
  {
   "cell_type": "code",
   "execution_count": 144,
   "metadata": {},
   "outputs": [
    {
     "data": {
      "image/png": "[encoded data removed]",
      "text/plain": [
       "<Figure size 432x288 with 1 Axes>"
      ]
     },
     "metadata": {
      "needs_background": "light"
     },
     "output_type": "display_data"
    }
   ],
   "source": [
    "learn.recorder.plot()"
   ]
  },
  {
   "cell_type": "code",
   "execution_count": 145,
   "metadata": {},
   "outputs": [],
   "source": [
    "lr = 1e-2"
   ]
  },
  {
   "cell_type": "code",
   "execution_count": 147,
   "metadata": {},
   "outputs": [
    {
     "data": {
      "text/html": [
       "Total time: 20:09 <p><table style='width:375px; margin-bottom:10px'>\n",
       "  <tr>\n",
       "    <th>epoch</th>\n",
       "    <th>train_loss</th>\n",
       "    <th>valid_loss</th>\n",
       "    <th>accuracy_thresh</th>\n",
       "    <th>f1</th>\n",
       "  </tr>\n",
       "  <tr>\n",
       "    <th>1</th>\n",
       "    <th>1.099243</th>\n",
       "    <th>0.934816</th>\n",
       "    <th>0.959254</th>\n",
       "    <th>0.189289</th>\n",
       "  </tr>\n",
       "  <tr>\n",
       "    <th>2</th>\n",
       "    <th>0.945128</th>\n",
       "    <th>0.862481</th>\n",
       "    <th>0.962770</th>\n",
       "    <th>0.279160</th>\n",
       "  </tr>\n",
       "  <tr>\n",
       "    <th>3</th>\n",
       "    <th>0.881749</th>\n",
       "    <th>0.817537</th>\n",
       "    <th>0.963954</th>\n",
       "    <th>0.291478</th>\n",
       "  </tr>\n",
       "</table>\n"
      ],
      "text/plain": [
       "<IPython.core.display.HTML object>"
      ]
     },
     "metadata": {},
     "output_type": "display_data"
    },
    {
     "data": {
      "image/png": "[encoded data removed]",
      "text/plain": [
       "<Figure size 432x288 with 1 Axes>"
      ]
     },
     "metadata": {},
     "output_type": "display_data"
    },
    {
     "name": "stdout",
     "output_type": "stream",
     "text": [
      "CPU times: user 13min 37s, sys: 5min 21s, total: 18min 58s\n",
      "Wall time: 20min 9s\n"
     ]
    }
   ],
   "source": [
    "%time learn.fit_one_cycle(3, slice(lr))"
   ]
  },
  {
   "cell_type": "code",
   "execution_count": 148,
   "metadata": {},
   "outputs": [],
   "source": [
    "learn.save('r18C_256');"
   ]
  },
  {
   "cell_type": "code",
   "execution_count": 149,
   "metadata": {},
   "outputs": [
    {
     "data": {
      "text/html": [
       "Total time: 40:16 <p><table style='width:375px; margin-bottom:10px'>\n",
       "  <tr>\n",
       "    <th>epoch</th>\n",
       "    <th>train_loss</th>\n",
       "    <th>valid_loss</th>\n",
       "    <th>accuracy_thresh</th>\n",
       "    <th>f1</th>\n",
       "  </tr>\n",
       "  <tr>\n",
       "    <th>1</th>\n",
       "    <th>0.894119</th>\n",
       "    <th>0.826192</th>\n",
       "    <th>0.963645</th>\n",
       "    <th>0.285123</th>\n",
       "  </tr>\n",
       "  <tr>\n",
       "    <th>2</th>\n",
       "    <th>0.907086</th>\n",
       "    <th>0.899927</th>\n",
       "    <th>0.961847</th>\n",
       "    <th>0.278555</th>\n",
       "  </tr>\n",
       "  <tr>\n",
       "    <th>3</th>\n",
       "    <th>0.889532</th>\n",
       "    <th>0.831060</th>\n",
       "    <th>0.963508</th>\n",
       "    <th>0.320659</th>\n",
       "  </tr>\n",
       "  <tr>\n",
       "    <th>4</th>\n",
       "    <th>0.821463</th>\n",
       "    <th>0.800053</th>\n",
       "    <th>0.963965</th>\n",
       "    <th>0.338091</th>\n",
       "  </tr>\n",
       "  <tr>\n",
       "    <th>5</th>\n",
       "    <th>0.780307</th>\n",
       "    <th>0.759781</th>\n",
       "    <th>0.966418</th>\n",
       "    <th>0.360099</th>\n",
       "  </tr>\n",
       "  <tr>\n",
       "    <th>6</th>\n",
       "    <th>0.760441</th>\n",
       "    <th>0.758117</th>\n",
       "    <th>0.966429</th>\n",
       "    <th>0.365276</th>\n",
       "  </tr>\n",
       "</table>\n"
      ],
      "text/plain": [
       "<IPython.core.display.HTML object>"
      ]
     },
     "metadata": {},
     "output_type": "display_data"
    },
    {
     "data": {
      "image/png": "[encoded data removed]",
      "text/plain": [
       "<Figure size 432x288 with 1 Axes>"
      ]
     },
     "metadata": {},
     "output_type": "display_data"
    },
    {
     "name": "stdout",
     "output_type": "stream",
     "text": [
      "CPU times: user 27min 10s, sys: 10min 42s, total: 37min 52s\n",
      "Wall time: 40min 16s\n"
     ]
    }
   ],
   "source": [
    "%time learn.fit_one_cycle(6, slice(lr))"
   ]
  },
  {
   "cell_type": "code",
   "execution_count": 150,
   "metadata": {},
   "outputs": [],
   "source": [
    "learn.save('r18C_256');"
   ]
  },
  {
   "cell_type": "code",
   "execution_count": null,
   "metadata": {},
   "outputs": [],
   "source": [
    "learn.unfreeze()"
   ]
  },
  {
   "cell_type": "code",
   "execution_count": null,
   "metadata": {},
   "outputs": [
    {
     "data": {
      "text/html": [
       "Total time: 48:51 <p><table style='width:375px; margin-bottom:10px'>\n",
       "  <tr>\n",
       "    <th>epoch</th>\n",
       "    <th>train_loss</th>\n",
       "    <th>valid_loss</th>\n",
       "    <th>accuracy_thresh</th>\n",
       "    <th>f1</th>\n",
       "  </tr>\n",
       "  <tr>\n",
       "    <th>1</th>\n",
       "    <th>0.894410</th>\n",
       "    <th>0.945821</th>\n",
       "    <th>0.960951</th>\n",
       "    <th>0.255605</th>\n",
       "  </tr>\n",
       "  <tr>\n",
       "    <th>2</th>\n",
       "    <th>0.854074</th>\n",
       "    <th>0.905605</th>\n",
       "    <th>0.960356</th>\n",
       "    <th>0.280369</th>\n",
       "  </tr>\n",
       "  <tr>\n",
       "    <th>3</th>\n",
       "    <th>0.745612</th>\n",
       "    <th>0.706355</th>\n",
       "    <th>0.968276</th>\n",
       "    <th>0.400595</th>\n",
       "  </tr>\n",
       "  <tr>\n",
       "    <th>4</th>\n",
       "    <th>0.664962</th>\n",
       "    <th>0.680807</th>\n",
       "    <th>0.969000</th>\n",
       "    <th>0.429212</th>\n",
       "  </tr>\n",
       "  <tr>\n",
       "    <th>5</th>\n",
       "    <th>0.599460</th>\n",
       "    <th>0.580317</th>\n",
       "    <th>0.973268</th>\n",
       "    <th>0.496339</th>\n",
       "  </tr>\n",
       "  <tr>\n",
       "    <th>6</th>\n",
       "    <th>0.578803</th>\n",
       "    <th>0.565739</th>\n",
       "    <th>0.973679</th>\n",
       "    <th>0.501856</th>\n",
       "  </tr>\n",
       "</table>\n"
      ],
      "text/plain": [
       "<IPython.core.display.HTML object>"
      ]
     },
     "metadata": {},
     "output_type": "display_data"
    },
    {
     "data": {
      "image/png": "[encoded data removed]",
      "text/plain": [
       "<Figure size 432x288 with 1 Axes>"
      ]
     },
     "metadata": {},
     "output_type": "display_data"
    },
    {
     "name": "stdout",
     "output_type": "stream",
     "text": [
      "CPU times: user 33min, sys: 13min 57s, total: 46min 57s\n",
      "Wall time: 48min 51s\n"
     ]
    }
   ],
   "source": [
    "%time learn.fit_one_cycle(6, slice(lr/10,lr/3))"
   ]
  },
  {
   "cell_type": "code",
   "execution_count": null,
   "metadata": {},
   "outputs": [],
   "source": [
    "learn.save('r18C_256_u');"
   ]
  },
  {
   "cell_type": "markdown",
   "metadata": {},
   "source": [
    "# 512"
   ]
  },
  {
   "cell_type": "code",
   "execution_count": 11,
   "metadata": {},
   "outputs": [],
   "source": [
    "data = get_data(512, 32, 0.01, sample=None)"
   ]
  },
  {
   "cell_type": "code",
   "execution_count": 12,
   "metadata": {},
   "outputs": [],
   "source": [
    "learn = get_learner(data, focal=True, fp16=True)"
   ]
  },
  {
   "cell_type": "code",
   "execution_count": 15,
   "metadata": {},
   "outputs": [],
   "source": [
    "learn.load('r18C_256_u');"
   ]
  },
  {
   "cell_type": "code",
   "execution_count": 16,
   "metadata": {},
   "outputs": [],
   "source": [
    "lr = 1e-2"
   ]
  },
  {
   "cell_type": "code",
   "execution_count": null,
   "metadata": {},
   "outputs": [
    {
     "data": {
      "text/html": [
       "\n",
       "    <div>\n",
       "        <style>\n",
       "            /* Turns off some styling */\n",
       "            progress {\n",
       "                /* gets rid of default border in Firefox and Opera. */\n",
       "                border: none;\n",
       "                /* Needs to be in here for Safari polyfill so background images work as expected. */\n",
       "                background-size: auto;\n",
       "            }\n",
       "            .progress-bar-interrupted, .progress-bar-interrupted::-webkit-progress-bar {\n",
       "                background: #F44336;\n",
       "            }\n",
       "        </style>\n",
       "      <progress value='2' class='' max='3', style='width:300px; height:20px; vertical-align: middle;'></progress>\n",
       "      66.67% [2/3 54:02<27:01]\n",
       "    </div>\n",
       "    \n",
       "<table style='width:375px; margin-bottom:10px'>\n",
       "  <tr>\n",
       "    <th>epoch</th>\n",
       "    <th>train_loss</th>\n",
       "    <th>valid_loss</th>\n",
       "    <th>accuracy_thresh</th>\n",
       "    <th>f1</th>\n",
       "  </tr>\n",
       "  <tr>\n",
       "    <th>1</th>\n",
       "    <th>0.711917</th>\n",
       "    <th>0.628798</th>\n",
       "    <th>0.970701</th>\n",
       "    <th>0.354332</th>\n",
       "  </tr>\n",
       "  <tr>\n",
       "    <th>2</th>\n",
       "    <th>0.655771</th>\n",
       "    <th>0.598372</th>\n",
       "    <th>0.972467</th>\n",
       "    <th>0.379441</th>\n",
       "  </tr>\n",
       "</table>\n",
       "\n",
       "\n",
       "    <div>\n",
       "        <style>\n",
       "            /* Turns off some styling */\n",
       "            progress {\n",
       "                /* gets rid of default border in Firefox and Opera. */\n",
       "                border: none;\n",
       "                /* Needs to be in here for Safari polyfill so background images work as expected. */\n",
       "                background-size: auto;\n",
       "            }\n",
       "            .progress-bar-interrupted, .progress-bar-interrupted::-webkit-progress-bar {\n",
       "                background: #F44336;\n",
       "            }\n",
       "        </style>\n",
       "      <progress value='1700' class='' max='3068', style='width:300px; height:20px; vertical-align: middle;'></progress>\n",
       "      55.41% [1700/3068 14:57<12:02 0.6185]\n",
       "    </div>\n",
       "    "
      ],
      "text/plain": [
       "<IPython.core.display.HTML object>"
      ]
     },
     "metadata": {},
     "output_type": "display_data"
    },
    {
     "data": {
      "image/png": "[encoded data removed]",
      "text/plain": [
       "<Figure size 432x288 with 1 Axes>"
      ]
     },
     "metadata": {},
     "output_type": "display_data"
    }
   ],
   "source": [
    "%time learn.fit_one_cycle(3, slice(lr/3))"
   ]
  },
  {
   "cell_type": "code",
   "execution_count": null,
   "metadata": {},
   "outputs": [],
   "source": [
    "learn.save('r18C_512')"
   ]
  },
  {
   "cell_type": "code",
   "execution_count": 17,
   "metadata": {},
   "outputs": [],
   "source": [
    "learn.load('r18C_512'); lr=1e-2"
   ]
  },
  {
   "cell_type": "code",
   "execution_count": 21,
   "metadata": {},
   "outputs": [],
   "source": [
    "learn.unfreeze()"
   ]
  },
  {
   "cell_type": "code",
   "execution_count": null,
   "metadata": {},
   "outputs": [
    {
     "data": {
      "text/html": [
       "\n",
       "    <div>\n",
       "        <style>\n",
       "            /* Turns off some styling */\n",
       "            progress {\n",
       "                /* gets rid of default border in Firefox and Opera. */\n",
       "                border: none;\n",
       "                /* Needs to be in here for Safari polyfill so background images work as expected. */\n",
       "                background-size: auto;\n",
       "            }\n",
       "            .progress-bar-interrupted, .progress-bar-interrupted::-webkit-progress-bar {\n",
       "                background: #F44336;\n",
       "            }\n",
       "        </style>\n",
       "      <progress value='0' class='' max='8', style='width:300px; height:20px; vertical-align: middle;'></progress>\n",
       "      0.00% [0/8 00:00<00:00]\n",
       "    </div>\n",
       "    \n",
       "<table style='width:375px; margin-bottom:10px'>\n",
       "  <tr>\n",
       "    <th>epoch</th>\n",
       "    <th>train_loss</th>\n",
       "    <th>valid_loss</th>\n",
       "    <th>accuracy_thresh</th>\n",
       "    <th>f1</th>\n",
       "  </tr>\n",
       "</table>\n",
       "\n",
       "\n",
       "    <div>\n",
       "        <style>\n",
       "            /* Turns off some styling */\n",
       "            progress {\n",
       "                /* gets rid of default border in Firefox and Opera. */\n",
       "                border: none;\n",
       "                /* Needs to be in here for Safari polyfill so background images work as expected. */\n",
       "                background-size: auto;\n",
       "            }\n",
       "            .progress-bar-interrupted, .progress-bar-interrupted::-webkit-progress-bar {\n",
       "                background: #F44336;\n",
       "            }\n",
       "        </style>\n",
       "      <progress value='1487' class='' max='3068', style='width:300px; height:20px; vertical-align: middle;'></progress>\n",
       "      48.47% [1487/3068 16:37<17:40 0.6249]\n",
       "    </div>\n",
       "    "
      ],
      "text/plain": [
       "<IPython.core.display.HTML object>"
      ]
     },
     "metadata": {},
     "output_type": "display_data"
    }
   ],
   "source": [
    "%time learn.fit_one_cycle(8, slice(lr/10,lr/3))"
   ]
  },
  {
   "cell_type": "code",
   "execution_count": 20,
   "metadata": {},
   "outputs": [],
   "source": [
    "learn.save('r18C_512_u');"
   ]
  },
  {
   "cell_type": "code",
   "execution_count": 31,
   "metadata": {},
   "outputs": [],
   "source": [
    "learn.data.test_dl.add_tfm(to_half)\n",
    "p,t = learn.get_preds(ds_type=DatasetType.Test)"
   ]
  },
  {
   "cell_type": "markdown",
   "metadata": {},
   "source": [
    "# Sub File"
   ]
  },
  {
   "cell_type": "code",
   "execution_count": 32,
   "metadata": {},
   "outputs": [],
   "source": [
    "model_name = 'r18c'"
   ]
  },
  {
   "cell_type": "code",
   "execution_count": 33,
   "metadata": {},
   "outputs": [
    {
     "name": "stdout",
     "output_type": "stream",
     "text": [
      "(11702, 28)\n"
     ]
    }
   ],
   "source": [
    "preds = to_np(p.sigmoid())  #Check if we are using focal loss or BCE.\n",
    "threshold = 0.4 #ths\n",
    "print(preds.shape)\n",
    "classes = np.array(data.classes)\n",
    "res = np.array([\" \".join(classes[(np.where(pp>threshold))])for pp in preds])"
   ]
  },
  {
   "cell_type": "code",
   "execution_count": 34,
   "metadata": {},
   "outputs": [],
   "source": [
    "preds = to_np(p.sigmoid())  #Check if we are using focal loss or BCE.\n",
    "np.save(model_name, preds)"
   ]
  },
  {
   "cell_type": "code",
   "execution_count": 35,
   "metadata": {},
   "outputs": [],
   "source": [
    "frame = pd.DataFrame(np.array([test_names, res]).T, columns = ['Id','Predicted'])\n",
    "frame.to_csv(f'{model_name}.csv', index=False)"
   ]
  },
  {
   "cell_type": "code",
   "execution_count": 36,
   "metadata": {},
   "outputs": [
    {
     "data": {
      "text/html": [
       "<div>\n",
       "<style scoped>\n",
       "    .dataframe tbody tr th:only-of-type {\n",
       "        vertical-align: middle;\n",
       "    }\n",
       "\n",
       "    .dataframe tbody tr th {\n",
       "        vertical-align: top;\n",
       "    }\n",
       "\n",
       "    .dataframe thead th {\n",
       "        text-align: right;\n",
       "    }\n",
       "</style>\n",
       "<table border=\"1\" class=\"dataframe\">\n",
       "  <thead>\n",
       "    <tr style=\"text-align: right;\">\n",
       "      <th></th>\n",
       "      <th>Id</th>\n",
       "      <th>Predicted</th>\n",
       "    </tr>\n",
       "  </thead>\n",
       "  <tbody>\n",
       "    <tr>\n",
       "      <th>0</th>\n",
       "      <td>00008af0-bad0-11e8-b2b8-ac1f6b6435d0</td>\n",
       "      <td>2</td>\n",
       "    </tr>\n",
       "    <tr>\n",
       "      <th>1</th>\n",
       "      <td>0000a892-bacf-11e8-b2b8-ac1f6b6435d0</td>\n",
       "      <td>5 25</td>\n",
       "    </tr>\n",
       "    <tr>\n",
       "      <th>2</th>\n",
       "      <td>0006faa6-bac7-11e8-b2b7-ac1f6b6435d0</td>\n",
       "      <td>0 5 18 21 25</td>\n",
       "    </tr>\n",
       "    <tr>\n",
       "      <th>3</th>\n",
       "      <td>0008baca-bad7-11e8-b2b9-ac1f6b6435d0</td>\n",
       "      <td>0 17 18 25</td>\n",
       "    </tr>\n",
       "    <tr>\n",
       "      <th>4</th>\n",
       "      <td>000cce7e-bad4-11e8-b2b8-ac1f6b6435d0</td>\n",
       "      <td>7 20</td>\n",
       "    </tr>\n",
       "  </tbody>\n",
       "</table>\n",
       "</div>"
      ],
      "text/plain": [
       "                                     Id     Predicted\n",
       "0  00008af0-bad0-11e8-b2b8-ac1f6b6435d0             2\n",
       "1  0000a892-bacf-11e8-b2b8-ac1f6b6435d0          5 25\n",
       "2  0006faa6-bac7-11e8-b2b7-ac1f6b6435d0  0 5 18 21 25\n",
       "3  0008baca-bad7-11e8-b2b9-ac1f6b6435d0    0 17 18 25\n",
       "4  000cce7e-bad4-11e8-b2b8-ac1f6b6435d0          7 20"
      ]
     },
     "execution_count": 36,
     "metadata": {},
     "output_type": "execute_result"
    }
   ],
   "source": [
    "frame.head()"
   ]
  },
  {
   "cell_type": "code",
   "execution_count": 37,
   "metadata": {},
   "outputs": [
    {
     "name": "stdout",
     "output_type": "stream",
     "text": [
      "Warning: Your Kaggle API key is readable by otherusers on this system! To fix this, you can run'chmod 600 /home/jupyter/.kaggle/kaggle.json'\n",
      "100%|█████████████████████████████████████████| 484k/484k [00:01<00:00, 315kB/s]\n",
      "Successfully submitted to Human Protein Atlas Image Classification"
     ]
    }
   ],
   "source": [
    "!kaggle competitions submit -c human-protein-atlas-image-classification -f \"r18c.csv\" -m \"custom R18\""
   ]
  },
  {
   "cell_type": "code",
   "execution_count": null,
   "metadata": {},
   "outputs": [],
   "source": []
  }
 ],
 "metadata": {
  "kernelspec": {
   "display_name": "Python 3",
   "language": "python",
   "name": "python3"
  },
  "language_info": {
   "codemirror_mode": {
    "name": "ipython",
    "version": 3
   },
   "file_extension": ".py",
   "mimetype": "text/x-python",
   "name": "python",
   "nbconvert_exporter": "python",
   "pygments_lexer": "ipython3",
   "version": "3.7.1"
  }
 },
 "nbformat": 4,
 "nbformat_minor": 2
}
