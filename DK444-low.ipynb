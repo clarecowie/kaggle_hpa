{
 "cells": [
  {
   "cell_type": "code",
   "execution_count": 1,
   "metadata": {},
   "outputs": [],
   "source": [
    "%reload_ext autoreload\n",
    "%autoreload 2\n",
    "\n",
    "from fastai import *\n",
    "from fastai.vision import *\n",
    "from pathlib import Path\n",
    "import PIL\n",
    "import cv2\n",
    "\n",
    "from utils import *\n",
    "from dark import *\n",
    "from wrn4 import *\n",
    "\n",
    "# from torch.utils.data.sampler import WeightedRandomSampler\n",
    "from imba_sampler import ImbalancedDatasetSampler\n",
    "\n",
    "torch.backends.cudnn.benchmark = False"
   ]
  },
  {
   "cell_type": "code",
   "execution_count": 2,
   "metadata": {},
   "outputs": [],
   "source": [
    "MASKS = 'train.csv'\n",
    "\n",
    "PATH = Path('./')\n",
    "TRAIN = Path('train512/')\n",
    "TEST = Path('test512/')\n",
    "TRAIN_AUG = Path('../aug/train/')\n",
    "\n",
    "SAMPLE = Path('sample_submission.csv')\n",
    "\n",
    "seg = pd.read_csv(PATH/MASKS)\n",
    "seg_aug = pd.read_csv('../aug/augment.csv', header=None)\n",
    "seg_aug.columns = seg.columns\n",
    "sample_sub = pd.read_csv(PATH/SAMPLE)\n",
    "train_names = list(seg.Id.values)\n",
    "test_names = list(sample_sub.Id.values)"
   ]
  },
  {
   "cell_type": "code",
   "execution_count": 3,
   "metadata": {},
   "outputs": [
    {
     "data": {
      "text/plain": [
       "(31072, 68093, 11702)"
      ]
     },
     "execution_count": 3,
     "metadata": {},
     "output_type": "execute_result"
    }
   ],
   "source": [
    "len(seg),len(seg_aug), len(test_names)"
   ]
  },
  {
   "cell_type": "code",
   "execution_count": 4,
   "metadata": {},
   "outputs": [
    {
     "data": {
      "text/plain": [
       "99165"
      ]
     },
     "execution_count": 4,
     "metadata": {},
     "output_type": "execute_result"
    }
   ],
   "source": [
    "df = pd.merge(seg, seg_aug,'outer'); len(df)"
   ]
  },
  {
   "cell_type": "code",
   "execution_count": 5,
   "metadata": {},
   "outputs": [
    {
     "data": {
      "text/html": [
       "<div>\n",
       "<style scoped>\n",
       "    .dataframe tbody tr th:only-of-type {\n",
       "        vertical-align: middle;\n",
       "    }\n",
       "\n",
       "    .dataframe tbody tr th {\n",
       "        vertical-align: top;\n",
       "    }\n",
       "\n",
       "    .dataframe thead th {\n",
       "        text-align: right;\n",
       "    }\n",
       "</style>\n",
       "<table border=\"1\" class=\"dataframe\">\n",
       "  <thead>\n",
       "    <tr style=\"text-align: right;\">\n",
       "      <th></th>\n",
       "      <th>Id</th>\n",
       "      <th>Target</th>\n",
       "    </tr>\n",
       "  </thead>\n",
       "  <tbody>\n",
       "    <tr>\n",
       "      <th>0</th>\n",
       "      <td>00070df0-bbc3-11e8-b2bc-ac1f6b6435d0</td>\n",
       "      <td>16 0</td>\n",
       "    </tr>\n",
       "    <tr>\n",
       "      <th>1</th>\n",
       "      <td>000a6c98-bb9b-11e8-b2b9-ac1f6b6435d0</td>\n",
       "      <td>7 1 2 0</td>\n",
       "    </tr>\n",
       "    <tr>\n",
       "      <th>2</th>\n",
       "      <td>000a9596-bbc4-11e8-b2bc-ac1f6b6435d0</td>\n",
       "      <td>5</td>\n",
       "    </tr>\n",
       "    <tr>\n",
       "      <th>3</th>\n",
       "      <td>000c99ba-bba4-11e8-b2b9-ac1f6b6435d0</td>\n",
       "      <td>1</td>\n",
       "    </tr>\n",
       "    <tr>\n",
       "      <th>4</th>\n",
       "      <td>001838f8-bbca-11e8-b2bc-ac1f6b6435d0</td>\n",
       "      <td>18</td>\n",
       "    </tr>\n",
       "  </tbody>\n",
       "</table>\n",
       "</div>"
      ],
      "text/plain": [
       "                                     Id   Target\n",
       "0  00070df0-bbc3-11e8-b2bc-ac1f6b6435d0     16 0\n",
       "1  000a6c98-bb9b-11e8-b2b9-ac1f6b6435d0  7 1 2 0\n",
       "2  000a9596-bbc4-11e8-b2bc-ac1f6b6435d0        5\n",
       "3  000c99ba-bba4-11e8-b2b9-ac1f6b6435d0        1\n",
       "4  001838f8-bbca-11e8-b2bc-ac1f6b6435d0       18"
      ]
     },
     "execution_count": 5,
     "metadata": {},
     "output_type": "execute_result"
    }
   ],
   "source": [
    "df.head()"
   ]
  },
  {
   "cell_type": "code",
   "execution_count": 6,
   "metadata": {},
   "outputs": [],
   "source": [
    "count = {}\n",
    "for l in df.Target.apply(str.split):\n",
    "#     print(l)\n",
    "    for li in l:\n",
    "        if li in count:\n",
    "            count[li]+=1\n",
    "        else:\n",
    "            count[li]=0"
   ]
  },
  {
   "cell_type": "code",
   "execution_count": 7,
   "metadata": {},
   "outputs": [],
   "source": [
    "count_s = pd.Series(count);"
   ]
  },
  {
   "cell_type": "code",
   "execution_count": 8,
   "metadata": {},
   "outputs": [
    {
     "data": {
      "text/plain": [
       "16    877\n",
       "24    509\n",
       "20    351\n",
       "17    287\n",
       "8     188\n",
       "9     138\n",
       "10    121\n",
       "26    645\n",
       "27     10\n",
       "15     40\n",
       "dtype: int64"
      ]
     },
     "execution_count": 8,
     "metadata": {},
     "output_type": "execute_result"
    }
   ],
   "source": [
    "th = 1000\n",
    "count_s = count_s[count_s<th]; count_s"
   ]
  },
  {
   "cell_type": "code",
   "execution_count": 9,
   "metadata": {},
   "outputs": [
    {
     "data": {
      "text/plain": [
       "['16', '24', '20', '17', '8', '9', '10', '26', '27', '15']"
      ]
     },
     "execution_count": 9,
     "metadata": {},
     "output_type": "execute_result"
    }
   ],
   "source": [
    "classes = list(count_s.index.values); classes"
   ]
  },
  {
   "cell_type": "code",
   "execution_count": 10,
   "metadata": {},
   "outputs": [
    {
     "data": {
      "text/plain": [
       "2958"
      ]
     },
     "execution_count": 10,
     "metadata": {},
     "output_type": "execute_result"
    }
   ],
   "source": [
    "df_ = df[df.Target.str.split().apply(lambda x: set(x).intersection(classes)!=set())];len(df_)"
   ]
  },
  {
   "cell_type": "code",
   "execution_count": 11,
   "metadata": {},
   "outputs": [
    {
     "name": "stderr",
     "output_type": "stream",
     "text": [
      "/opt/anaconda3/lib/python3.7/site-packages/pandas/core/generic.py:4405: SettingWithCopyWarning: \n",
      "A value is trying to be set on a copy of a slice from a DataFrame.\n",
      "Try using .loc[row_indexer,col_indexer] = value instead\n",
      "\n",
      "See the caveats in the documentation: http://pandas.pydata.org/pandas-docs/stable/indexing.html#indexing-view-versus-copy\n",
      "  self[name] = value\n"
     ]
    }
   ],
   "source": [
    "df_.Target = (df_.Target.str.split()\n",
    "              .apply(lambda x: ' '.join([str(i) for i in list(set(x).intersection(classes))]))\n",
    "             )"
   ]
  },
  {
   "cell_type": "code",
   "execution_count": 12,
   "metadata": {},
   "outputs": [
    {
     "data": {
      "text/html": [
       "<div>\n",
       "<style scoped>\n",
       "    .dataframe tbody tr th:only-of-type {\n",
       "        vertical-align: middle;\n",
       "    }\n",
       "\n",
       "    .dataframe tbody tr th {\n",
       "        vertical-align: top;\n",
       "    }\n",
       "\n",
       "    .dataframe thead th {\n",
       "        text-align: right;\n",
       "    }\n",
       "</style>\n",
       "<table border=\"1\" class=\"dataframe\">\n",
       "  <thead>\n",
       "    <tr style=\"text-align: right;\">\n",
       "      <th></th>\n",
       "      <th>Id</th>\n",
       "      <th>Target</th>\n",
       "    </tr>\n",
       "  </thead>\n",
       "  <tbody>\n",
       "    <tr>\n",
       "      <th>0</th>\n",
       "      <td>00070df0-bbc3-11e8-b2bc-ac1f6b6435d0</td>\n",
       "      <td>16</td>\n",
       "    </tr>\n",
       "    <tr>\n",
       "      <th>12</th>\n",
       "      <td>0032a07e-bba9-11e8-b2ba-ac1f6b6435d0</td>\n",
       "      <td>24</td>\n",
       "    </tr>\n",
       "    <tr>\n",
       "      <th>25</th>\n",
       "      <td>004bf4c6-bbc6-11e8-b2bc-ac1f6b6435d0</td>\n",
       "      <td>16</td>\n",
       "    </tr>\n",
       "    <tr>\n",
       "      <th>40</th>\n",
       "      <td>00638dd0-bbac-11e8-b2ba-ac1f6b6435d0</td>\n",
       "      <td>20</td>\n",
       "    </tr>\n",
       "    <tr>\n",
       "      <th>59</th>\n",
       "      <td>008761b4-bbad-11e8-b2ba-ac1f6b6435d0</td>\n",
       "      <td>17 16</td>\n",
       "    </tr>\n",
       "    <tr>\n",
       "      <th>112</th>\n",
       "      <td>00ff41c4-bba9-11e8-b2ba-ac1f6b6435d0</td>\n",
       "      <td>8</td>\n",
       "    </tr>\n",
       "    <tr>\n",
       "      <th>127</th>\n",
       "      <td>0118f7e4-bbaf-11e8-b2ba-ac1f6b6435d0</td>\n",
       "      <td>20</td>\n",
       "    </tr>\n",
       "    <tr>\n",
       "      <th>135</th>\n",
       "      <td>01314a58-bba3-11e8-b2b9-ac1f6b6435d0</td>\n",
       "      <td>9 10</td>\n",
       "    </tr>\n",
       "    <tr>\n",
       "      <th>149</th>\n",
       "      <td>014d20d2-bbaf-11e8-b2ba-ac1f6b6435d0</td>\n",
       "      <td>26</td>\n",
       "    </tr>\n",
       "    <tr>\n",
       "      <th>164</th>\n",
       "      <td>017badb4-bbc6-11e8-b2bc-ac1f6b6435d0</td>\n",
       "      <td>17 16</td>\n",
       "    </tr>\n",
       "    <tr>\n",
       "      <th>166</th>\n",
       "      <td>017e605a-bba7-11e8-b2ba-ac1f6b6435d0</td>\n",
       "      <td>17</td>\n",
       "    </tr>\n",
       "    <tr>\n",
       "      <th>180</th>\n",
       "      <td>01a2fd5e-bbb4-11e8-b2ba-ac1f6b6435d0</td>\n",
       "      <td>17 16</td>\n",
       "    </tr>\n",
       "    <tr>\n",
       "      <th>181</th>\n",
       "      <td>01a9e5da-bb9e-11e8-b2b9-ac1f6b6435d0</td>\n",
       "      <td>16</td>\n",
       "    </tr>\n",
       "    <tr>\n",
       "      <th>190</th>\n",
       "      <td>01ba30e4-bbb6-11e8-b2ba-ac1f6b6435d0</td>\n",
       "      <td>16</td>\n",
       "    </tr>\n",
       "    <tr>\n",
       "      <th>200</th>\n",
       "      <td>01d05f48-bbb8-11e8-b2ba-ac1f6b6435d0</td>\n",
       "      <td>16</td>\n",
       "    </tr>\n",
       "    <tr>\n",
       "      <th>230</th>\n",
       "      <td>020d4352-bbb5-11e8-b2ba-ac1f6b6435d0</td>\n",
       "      <td>16</td>\n",
       "    </tr>\n",
       "    <tr>\n",
       "      <th>232</th>\n",
       "      <td>0216d526-bbbe-11e8-b2ba-ac1f6b6435d0</td>\n",
       "      <td>16</td>\n",
       "    </tr>\n",
       "    <tr>\n",
       "      <th>247</th>\n",
       "      <td>0230f2c2-bb9f-11e8-b2b9-ac1f6b6435d0</td>\n",
       "      <td>16</td>\n",
       "    </tr>\n",
       "    <tr>\n",
       "      <th>264</th>\n",
       "      <td>024f5654-bbae-11e8-b2ba-ac1f6b6435d0</td>\n",
       "      <td>24</td>\n",
       "    </tr>\n",
       "    <tr>\n",
       "      <th>271</th>\n",
       "      <td>0265b670-bba3-11e8-b2b9-ac1f6b6435d0</td>\n",
       "      <td>17</td>\n",
       "    </tr>\n",
       "  </tbody>\n",
       "</table>\n",
       "</div>"
      ],
      "text/plain": [
       "                                       Id Target\n",
       "0    00070df0-bbc3-11e8-b2bc-ac1f6b6435d0     16\n",
       "12   0032a07e-bba9-11e8-b2ba-ac1f6b6435d0     24\n",
       "25   004bf4c6-bbc6-11e8-b2bc-ac1f6b6435d0     16\n",
       "40   00638dd0-bbac-11e8-b2ba-ac1f6b6435d0     20\n",
       "59   008761b4-bbad-11e8-b2ba-ac1f6b6435d0  17 16\n",
       "112  00ff41c4-bba9-11e8-b2ba-ac1f6b6435d0      8\n",
       "127  0118f7e4-bbaf-11e8-b2ba-ac1f6b6435d0     20\n",
       "135  01314a58-bba3-11e8-b2b9-ac1f6b6435d0   9 10\n",
       "149  014d20d2-bbaf-11e8-b2ba-ac1f6b6435d0     26\n",
       "164  017badb4-bbc6-11e8-b2bc-ac1f6b6435d0  17 16\n",
       "166  017e605a-bba7-11e8-b2ba-ac1f6b6435d0     17\n",
       "180  01a2fd5e-bbb4-11e8-b2ba-ac1f6b6435d0  17 16\n",
       "181  01a9e5da-bb9e-11e8-b2b9-ac1f6b6435d0     16\n",
       "190  01ba30e4-bbb6-11e8-b2ba-ac1f6b6435d0     16\n",
       "200  01d05f48-bbb8-11e8-b2ba-ac1f6b6435d0     16\n",
       "230  020d4352-bbb5-11e8-b2ba-ac1f6b6435d0     16\n",
       "232  0216d526-bbbe-11e8-b2ba-ac1f6b6435d0     16\n",
       "247  0230f2c2-bb9f-11e8-b2b9-ac1f6b6435d0     16\n",
       "264  024f5654-bbae-11e8-b2ba-ac1f6b6435d0     24\n",
       "271  0265b670-bba3-11e8-b2b9-ac1f6b6435d0     17"
      ]
     },
     "execution_count": 12,
     "metadata": {},
     "output_type": "execute_result"
    }
   ],
   "source": [
    "df_.head(20)"
   ]
  },
  {
   "cell_type": "code",
   "execution_count": 13,
   "metadata": {},
   "outputs": [],
   "source": [
    "arch = Darknet([1,2,4,4,4], len(classes), 32, se=True);\n",
    "# arch = wrn_22_10()"
   ]
  },
  {
   "cell_type": "code",
   "execution_count": 14,
   "metadata": {},
   "outputs": [],
   "source": [
    "stats = ([0.08069, 0.05258, 0.05487], [0.13704,0.10145, 0.15313])\n",
    "tfms = get_transforms(do_flip=True, flip_vert=True, \n",
    "                      max_lighting=0.1, max_warp=0.4)"
   ]
  },
  {
   "cell_type": "code",
   "execution_count": 15,
   "metadata": {},
   "outputs": [],
   "source": [
    "def get_data(sz=64, bs=64, pct=0.2, sample=5000):\n",
    "#     sz, pct, bs = 64, 0.2, 64\n",
    "    src = (ImageItemList.from_df(df=df_, path=PATH, folder=TRAIN_AUG, suffix='.png')\n",
    "           .random_split_by_pct(pct)\n",
    "           .label_from_df(sep=' ', classes=classes)\n",
    "           .add_test([TEST/(f+'.png') for f in test_names])\n",
    "          )\n",
    "    data = (src.transform(tfms, size=sz))\n",
    "    #         .databunch(bs=bs).normalize(stats))\n",
    "\n",
    "    test_ds = data.test\n",
    "    train_ds, val_ds = data.train, data.valid\n",
    "    datasets = [train_ds, val_ds, test_ds]\n",
    "    sampler = ImbalancedDatasetSampler(datasets[0], num_samples=sample)\n",
    "    train_dl = DataLoader(datasets[0], bs, sampler=sampler, num_workers=12)\n",
    "    val_dl = DataLoader(datasets[1], 2*bs, False, num_workers=8)\n",
    "    test_dl = DataLoader(datasets[2], 2*bs, False, num_workers=8)\n",
    "\n",
    "    return ImageDataBunch(train_dl, val_dl, test_dl).normalize(stats)"
   ]
  },
  {
   "cell_type": "code",
   "execution_count": 16,
   "metadata": {},
   "outputs": [],
   "source": [
    "data = get_data()"
   ]
  },
  {
   "cell_type": "code",
   "execution_count": 17,
   "metadata": {},
   "outputs": [
    {
     "data": {
      "text/plain": [
       "['16', '24', '20', '17', '8', '9', '10', '26', '27', '15']"
      ]
     },
     "execution_count": 17,
     "metadata": {},
     "output_type": "execute_result"
    }
   ],
   "source": [
    "data.classes"
   ]
  },
  {
   "cell_type": "code",
   "execution_count": 18,
   "metadata": {},
   "outputs": [
    {
     "data": {
      "image/png": "[encoded data removed]",
      "text/plain": [
       "<Figure size 864x648 with 9 Axes>"
      ]
     },
     "metadata": {
      "needs_background": "light"
     },
     "output_type": "display_data"
    }
   ],
   "source": [
    "data.show_batch(rows=3, figsize=(12,9))"
   ]
  },
  {
   "cell_type": "code",
   "execution_count": 19,
   "metadata": {},
   "outputs": [],
   "source": [
    "def get_learner(data, focal=False, fp16=False):\n",
    "    learn = Learner(data, arch , metrics=[accuracy_thresh, f1])\n",
    "    if focal: learn.loss_func = FocalLoss()\n",
    "    if fp16: learn.to_fp16();\n",
    "    learn.split((arch.layers[11],arch.layers[20]))  #Split for 444 model [11,20]\n",
    "    return learn.mixup(stack_y=False)"
   ]
  },
  {
   "cell_type": "markdown",
   "metadata": {},
   "source": [
    "# 64"
   ]
  },
  {
   "cell_type": "code",
   "execution_count": 45,
   "metadata": {},
   "outputs": [],
   "source": [
    "data = get_data(sz=64, bs=128, pct=0.05, sample=None)\n",
    "learn = get_learner(data, focal=False, fp16=True)"
   ]
  },
  {
   "cell_type": "code",
   "execution_count": 46,
   "metadata": {},
   "outputs": [
    {
     "name": "stdout",
     "output_type": "stream",
     "text": [
      "LR Finder is complete, type {learner_name}.recorder.plot() to see the graph.\n"
     ]
    },
    {
     "data": {
      "image/png": "[encoded data removed]",
      "text/plain": [
       "<Figure size 432x288 with 1 Axes>"
      ]
     },
     "metadata": {
      "needs_background": "light"
     },
     "output_type": "display_data"
    }
   ],
   "source": [
    "learn.lr_find()\n",
    "learn.recorder.plot()"
   ]
  },
  {
   "cell_type": "code",
   "execution_count": 24,
   "metadata": {},
   "outputs": [],
   "source": [
    "lr=1e-2"
   ]
  },
  {
   "cell_type": "code",
   "execution_count": 48,
   "metadata": {},
   "outputs": [
    {
     "data": {
      "text/html": [
       "Total time: 09:32 <p><table style='width:375px; margin-bottom:10px'>\n",
       "  <tr>\n",
       "    <th>epoch</th>\n",
       "    <th>train_loss</th>\n",
       "    <th>valid_loss</th>\n",
       "    <th>accuracy_thresh</th>\n",
       "    <th>f1</th>\n",
       "  </tr>\n",
       "  <tr>\n",
       "    <th>1</th>\n",
       "    <th>0.469936</th>\n",
       "    <th>0.341113</th>\n",
       "    <th>0.876190</th>\n",
       "    <th>0.131686</th>\n",
       "  </tr>\n",
       "  <tr>\n",
       "    <th>2</th>\n",
       "    <th>0.391317</th>\n",
       "    <th>0.321198</th>\n",
       "    <th>0.870748</th>\n",
       "    <th>0.110187</th>\n",
       "  </tr>\n",
       "  <tr>\n",
       "    <th>3</th>\n",
       "    <th>0.362358</th>\n",
       "    <th>0.292608</th>\n",
       "    <th>0.887755</th>\n",
       "    <th>0.111385</th>\n",
       "  </tr>\n",
       "  <tr>\n",
       "    <th>4</th>\n",
       "    <th>0.347249</th>\n",
       "    <th>0.359223</th>\n",
       "    <th>0.868027</th>\n",
       "    <th>0.081964</th>\n",
       "  </tr>\n",
       "  <tr>\n",
       "    <th>5</th>\n",
       "    <th>0.336764</th>\n",
       "    <th>0.375017</th>\n",
       "    <th>0.868027</th>\n",
       "    <th>0.040000</th>\n",
       "  </tr>\n",
       "  <tr>\n",
       "    <th>6</th>\n",
       "    <th>0.333914</th>\n",
       "    <th>0.373471</th>\n",
       "    <th>0.870748</th>\n",
       "    <th>0.044103</th>\n",
       "  </tr>\n",
       "  <tr>\n",
       "    <th>7</th>\n",
       "    <th>0.330600</th>\n",
       "    <th>0.352153</th>\n",
       "    <th>0.880952</th>\n",
       "    <th>0.065805</th>\n",
       "  </tr>\n",
       "  <tr>\n",
       "    <th>8</th>\n",
       "    <th>0.327777</th>\n",
       "    <th>0.297697</th>\n",
       "    <th>0.882313</th>\n",
       "    <th>0.059006</th>\n",
       "  </tr>\n",
       "  <tr>\n",
       "    <th>9</th>\n",
       "    <th>0.326353</th>\n",
       "    <th>0.302178</th>\n",
       "    <th>0.885034</th>\n",
       "    <th>0.130518</th>\n",
       "  </tr>\n",
       "  <tr>\n",
       "    <th>10</th>\n",
       "    <th>0.325668</th>\n",
       "    <th>0.368069</th>\n",
       "    <th>0.877551</th>\n",
       "    <th>0.089249</th>\n",
       "  </tr>\n",
       "  <tr>\n",
       "    <th>11</th>\n",
       "    <th>0.323626</th>\n",
       "    <th>0.320232</th>\n",
       "    <th>0.879592</th>\n",
       "    <th>0.104659</th>\n",
       "  </tr>\n",
       "  <tr>\n",
       "    <th>12</th>\n",
       "    <th>0.322044</th>\n",
       "    <th>0.336846</th>\n",
       "    <th>0.874150</th>\n",
       "    <th>0.090806</th>\n",
       "  </tr>\n",
       "  <tr>\n",
       "    <th>13</th>\n",
       "    <th>0.318880</th>\n",
       "    <th>0.326195</th>\n",
       "    <th>0.882993</th>\n",
       "    <th>0.125952</th>\n",
       "  </tr>\n",
       "  <tr>\n",
       "    <th>14</th>\n",
       "    <th>0.316737</th>\n",
       "    <th>0.307012</th>\n",
       "    <th>0.884354</th>\n",
       "    <th>0.145238</th>\n",
       "  </tr>\n",
       "  <tr>\n",
       "    <th>15</th>\n",
       "    <th>0.315104</th>\n",
       "    <th>0.316961</th>\n",
       "    <th>0.885714</th>\n",
       "    <th>0.140697</th>\n",
       "  </tr>\n",
       "  <tr>\n",
       "    <th>16</th>\n",
       "    <th>0.313417</th>\n",
       "    <th>0.333653</th>\n",
       "    <th>0.889796</th>\n",
       "    <th>0.035294</th>\n",
       "  </tr>\n",
       "  <tr>\n",
       "    <th>17</th>\n",
       "    <th>0.311249</th>\n",
       "    <th>0.318213</th>\n",
       "    <th>0.876190</th>\n",
       "    <th>0.088837</th>\n",
       "  </tr>\n",
       "  <tr>\n",
       "    <th>18</th>\n",
       "    <th>0.308981</th>\n",
       "    <th>0.290984</th>\n",
       "    <th>0.889116</th>\n",
       "    <th>0.132564</th>\n",
       "  </tr>\n",
       "  <tr>\n",
       "    <th>19</th>\n",
       "    <th>0.306936</th>\n",
       "    <th>0.301079</th>\n",
       "    <th>0.891837</th>\n",
       "    <th>0.169608</th>\n",
       "  </tr>\n",
       "  <tr>\n",
       "    <th>20</th>\n",
       "    <th>0.304177</th>\n",
       "    <th>0.296918</th>\n",
       "    <th>0.884354</th>\n",
       "    <th>0.193359</th>\n",
       "  </tr>\n",
       "  <tr>\n",
       "    <th>21</th>\n",
       "    <th>0.302448</th>\n",
       "    <th>0.310424</th>\n",
       "    <th>0.883674</th>\n",
       "    <th>0.104211</th>\n",
       "  </tr>\n",
       "  <tr>\n",
       "    <th>22</th>\n",
       "    <th>0.299097</th>\n",
       "    <th>0.330566</th>\n",
       "    <th>0.879592</th>\n",
       "    <th>0.136210</th>\n",
       "  </tr>\n",
       "  <tr>\n",
       "    <th>23</th>\n",
       "    <th>0.295355</th>\n",
       "    <th>0.298231</th>\n",
       "    <th>0.880272</th>\n",
       "    <th>0.079317</th>\n",
       "  </tr>\n",
       "  <tr>\n",
       "    <th>24</th>\n",
       "    <th>0.290455</th>\n",
       "    <th>0.288713</th>\n",
       "    <th>0.883674</th>\n",
       "    <th>0.176700</th>\n",
       "  </tr>\n",
       "  <tr>\n",
       "    <th>25</th>\n",
       "    <th>0.286599</th>\n",
       "    <th>0.294662</th>\n",
       "    <th>0.885034</th>\n",
       "    <th>0.167197</th>\n",
       "  </tr>\n",
       "  <tr>\n",
       "    <th>26</th>\n",
       "    <th>0.282989</th>\n",
       "    <th>0.270952</th>\n",
       "    <th>0.890476</th>\n",
       "    <th>0.281041</th>\n",
       "  </tr>\n",
       "  <tr>\n",
       "    <th>27</th>\n",
       "    <th>0.278743</th>\n",
       "    <th>0.285657</th>\n",
       "    <th>0.885034</th>\n",
       "    <th>0.298161</th>\n",
       "  </tr>\n",
       "  <tr>\n",
       "    <th>28</th>\n",
       "    <th>0.275810</th>\n",
       "    <th>0.271525</th>\n",
       "    <th>0.887755</th>\n",
       "    <th>0.225317</th>\n",
       "  </tr>\n",
       "  <tr>\n",
       "    <th>29</th>\n",
       "    <th>0.271847</th>\n",
       "    <th>0.272100</th>\n",
       "    <th>0.887075</th>\n",
       "    <th>0.226388</th>\n",
       "  </tr>\n",
       "  <tr>\n",
       "    <th>30</th>\n",
       "    <th>0.269064</th>\n",
       "    <th>0.271598</th>\n",
       "    <th>0.886395</th>\n",
       "    <th>0.233531</th>\n",
       "  </tr>\n",
       "  <tr>\n",
       "\n",
       "  </tr>\n",
       "</table>\n"
      ],
      "text/plain": [
       "<IPython.core.display.HTML object>"
      ]
     },
     "metadata": {},
     "output_type": "display_data"
    },
    {
     "name": "stdout",
     "output_type": "stream",
     "text": [
      "CPU times: user 4min 12s, sys: 2min 35s, total: 6min 48s\n",
      "Wall time: 9min 32s\n"
     ]
    }
   ],
   "source": [
    "%time learn.fit_one_cycle(30, lr,wd=0.2, div_factor=10, pct_start=0.5)"
   ]
  },
  {
   "cell_type": "code",
   "execution_count": 49,
   "metadata": {},
   "outputs": [],
   "source": [
    "learn.save('dk3_low_64')"
   ]
  },
  {
   "cell_type": "markdown",
   "metadata": {},
   "source": [
    "# 128"
   ]
  },
  {
   "cell_type": "code",
   "execution_count": 55,
   "metadata": {},
   "outputs": [],
   "source": [
    "learn.data = get_data(sz=128, bs=64, pct=0.2, sample=None)"
   ]
  },
  {
   "cell_type": "code",
   "execution_count": 56,
   "metadata": {},
   "outputs": [],
   "source": [
    "learn.load('dk3_low_64');"
   ]
  },
  {
   "cell_type": "code",
   "execution_count": 57,
   "metadata": {},
   "outputs": [
    {
     "data": {
      "text/html": [
       "Total time: 24:34 <p><table style='width:375px; margin-bottom:10px'>\n",
       "  <tr>\n",
       "    <th>epoch</th>\n",
       "    <th>train_loss</th>\n",
       "    <th>valid_loss</th>\n",
       "    <th>accuracy_thresh</th>\n",
       "    <th>f1</th>\n",
       "  </tr>\n",
       "  <tr>\n",
       "    <th>1</th>\n",
       "    <th>0.279522</th>\n",
       "    <th>0.260724</th>\n",
       "    <th>0.899154</th>\n",
       "    <th>0.208652</th>\n",
       "  </tr>\n",
       "  <tr>\n",
       "    <th>2</th>\n",
       "    <th>0.273480</th>\n",
       "    <th>0.256420</th>\n",
       "    <th>0.896785</th>\n",
       "    <th>0.226744</th>\n",
       "  </tr>\n",
       "  <tr>\n",
       "    <th>3</th>\n",
       "    <th>0.271247</th>\n",
       "    <th>0.255004</th>\n",
       "    <th>0.898308</th>\n",
       "    <th>0.242528</th>\n",
       "  </tr>\n",
       "  <tr>\n",
       "    <th>4</th>\n",
       "    <th>0.267138</th>\n",
       "    <th>0.249029</th>\n",
       "    <th>0.902707</th>\n",
       "    <th>0.257332</th>\n",
       "  </tr>\n",
       "  <tr>\n",
       "    <th>5</th>\n",
       "    <th>0.264381</th>\n",
       "    <th>0.259100</th>\n",
       "    <th>0.898139</th>\n",
       "    <th>0.255374</th>\n",
       "  </tr>\n",
       "  <tr>\n",
       "    <th>6</th>\n",
       "    <th>0.263477</th>\n",
       "    <th>0.257356</th>\n",
       "    <th>0.895770</th>\n",
       "    <th>0.233180</th>\n",
       "  </tr>\n",
       "  <tr>\n",
       "    <th>7</th>\n",
       "    <th>0.263138</th>\n",
       "    <th>0.263896</th>\n",
       "    <th>0.893909</th>\n",
       "    <th>0.231913</th>\n",
       "  </tr>\n",
       "  <tr>\n",
       "    <th>8</th>\n",
       "    <th>0.265460</th>\n",
       "    <th>0.267107</th>\n",
       "    <th>0.897631</th>\n",
       "    <th>0.248598</th>\n",
       "  </tr>\n",
       "  <tr>\n",
       "    <th>9</th>\n",
       "    <th>0.267400</th>\n",
       "    <th>0.285459</th>\n",
       "    <th>0.886125</th>\n",
       "    <th>0.284449</th>\n",
       "  </tr>\n",
       "  <tr>\n",
       "    <th>10</th>\n",
       "    <th>0.265056</th>\n",
       "    <th>0.273482</th>\n",
       "    <th>0.893909</th>\n",
       "    <th>0.234182</th>\n",
       "  </tr>\n",
       "  <tr>\n",
       "    <th>11</th>\n",
       "    <th>0.265410</th>\n",
       "    <th>0.254162</th>\n",
       "    <th>0.898139</th>\n",
       "    <th>0.263935</th>\n",
       "  </tr>\n",
       "  <tr>\n",
       "    <th>12</th>\n",
       "    <th>0.264864</th>\n",
       "    <th>0.317420</th>\n",
       "    <th>0.883418</th>\n",
       "    <th>0.199455</th>\n",
       "  </tr>\n",
       "  <tr>\n",
       "    <th>13</th>\n",
       "    <th>0.266802</th>\n",
       "    <th>0.261223</th>\n",
       "    <th>0.896108</th>\n",
       "    <th>0.212323</th>\n",
       "  </tr>\n",
       "  <tr>\n",
       "    <th>14</th>\n",
       "    <th>0.262090</th>\n",
       "    <th>0.259862</th>\n",
       "    <th>0.894416</th>\n",
       "    <th>0.201545</th>\n",
       "  </tr>\n",
       "  <tr>\n",
       "    <th>15</th>\n",
       "    <th>0.261815</th>\n",
       "    <th>0.283155</th>\n",
       "    <th>0.889679</th>\n",
       "    <th>0.240703</th>\n",
       "  </tr>\n",
       "  <tr>\n",
       "    <th>16</th>\n",
       "    <th>0.258284</th>\n",
       "    <th>0.240741</th>\n",
       "    <th>0.898139</th>\n",
       "    <th>0.243143</th>\n",
       "  </tr>\n",
       "  <tr>\n",
       "    <th>17</th>\n",
       "    <th>0.254446</th>\n",
       "    <th>0.247034</th>\n",
       "    <th>0.905584</th>\n",
       "    <th>0.289675</th>\n",
       "  </tr>\n",
       "  <tr>\n",
       "    <th>18</th>\n",
       "    <th>0.250281</th>\n",
       "    <th>0.253267</th>\n",
       "    <th>0.903046</th>\n",
       "    <th>0.277347</th>\n",
       "  </tr>\n",
       "  <tr>\n",
       "    <th>19</th>\n",
       "    <th>0.245890</th>\n",
       "    <th>0.223293</th>\n",
       "    <th>0.907783</th>\n",
       "    <th>0.340856</th>\n",
       "  </tr>\n",
       "  <tr>\n",
       "    <th>20</th>\n",
       "    <th>0.243719</th>\n",
       "    <th>0.234310</th>\n",
       "    <th>0.903722</th>\n",
       "    <th>0.299886</th>\n",
       "  </tr>\n",
       "  <tr>\n",
       "    <th>21</th>\n",
       "    <th>0.235720</th>\n",
       "    <th>0.227076</th>\n",
       "    <th>0.905076</th>\n",
       "    <th>0.335015</th>\n",
       "  </tr>\n",
       "  <tr>\n",
       "    <th>22</th>\n",
       "    <th>0.228670</th>\n",
       "    <th>0.218717</th>\n",
       "    <th>0.911675</th>\n",
       "    <th>0.447531</th>\n",
       "  </tr>\n",
       "  <tr>\n",
       "    <th>23</th>\n",
       "    <th>0.223186</th>\n",
       "    <th>0.229758</th>\n",
       "    <th>0.904230</th>\n",
       "    <th>0.415275</th>\n",
       "  </tr>\n",
       "  <tr>\n",
       "    <th>24</th>\n",
       "    <th>0.220131</th>\n",
       "    <th>0.212782</th>\n",
       "    <th>0.910321</th>\n",
       "    <th>0.440021</th>\n",
       "  </tr>\n",
       "  <tr>\n",
       "    <th>25</th>\n",
       "    <th>0.214138</th>\n",
       "    <th>0.206770</th>\n",
       "    <th>0.915059</th>\n",
       "    <th>0.477474</th>\n",
       "  </tr>\n",
       "  <tr>\n",
       "    <th>26</th>\n",
       "    <th>0.207754</th>\n",
       "    <th>0.191770</th>\n",
       "    <th>0.919628</th>\n",
       "    <th>0.486760</th>\n",
       "  </tr>\n",
       "  <tr>\n",
       "    <th>27</th>\n",
       "    <th>0.203058</th>\n",
       "    <th>0.186416</th>\n",
       "    <th>0.924535</th>\n",
       "    <th>0.533755</th>\n",
       "  </tr>\n",
       "  <tr>\n",
       "    <th>28</th>\n",
       "    <th>0.200826</th>\n",
       "    <th>0.176258</th>\n",
       "    <th>0.927750</th>\n",
       "    <th>0.532625</th>\n",
       "  </tr>\n",
       "  <tr>\n",
       "    <th>29</th>\n",
       "    <th>0.199388</th>\n",
       "    <th>0.176310</th>\n",
       "    <th>0.927919</th>\n",
       "    <th>0.546468</th>\n",
       "  </tr>\n",
       "  <tr>\n",
       "    <th>30</th>\n",
       "    <th>0.197199</th>\n",
       "    <th>0.176501</th>\n",
       "    <th>0.927411</th>\n",
       "    <th>0.544937</th>\n",
       "  </tr>\n",
       "  <tr>\n",
       "\n",
       "  </tr>\n",
       "</table>\n"
      ],
      "text/plain": [
       "<IPython.core.display.HTML object>"
      ]
     },
     "metadata": {},
     "output_type": "display_data"
    },
    {
     "name": "stdout",
     "output_type": "stream",
     "text": [
      "CPU times: user 13min 45s, sys: 8min 25s, total: 22min 11s\n",
      "Wall time: 24min 34s\n"
     ]
    }
   ],
   "source": [
    "%time learn.fit_one_cycle(30, lr/3, wd=0.2, div_factor=10, pct_start=0.5)"
   ]
  },
  {
   "cell_type": "code",
   "execution_count": 58,
   "metadata": {},
   "outputs": [],
   "source": [
    "learn.save('dk3_low_128')"
   ]
  },
  {
   "cell_type": "markdown",
   "metadata": {},
   "source": [
    "# 256"
   ]
  },
  {
   "cell_type": "code",
   "execution_count": 20,
   "metadata": {},
   "outputs": [],
   "source": [
    "data = get_data(sz=256, bs=32, pct=0.1, sample=None)\n",
    "learn = get_learner(data, focal=False, fp16=True)"
   ]
  },
  {
   "cell_type": "code",
   "execution_count": 21,
   "metadata": {},
   "outputs": [],
   "source": [
    "learn.load('dk3_low_128');"
   ]
  },
  {
   "cell_type": "code",
   "execution_count": 22,
   "metadata": {},
   "outputs": [],
   "source": [
    "learn.freeze()"
   ]
  },
  {
   "cell_type": "code",
   "execution_count": 25,
   "metadata": {},
   "outputs": [
    {
     "data": {
      "text/html": [
       "Total time: 23:01 <p><table style='width:375px; margin-bottom:10px'>\n",
       "  <tr>\n",
       "    <th>epoch</th>\n",
       "    <th>train_loss</th>\n",
       "    <th>valid_loss</th>\n",
       "    <th>accuracy_thresh</th>\n",
       "    <th>f1</th>\n",
       "  </tr>\n",
       "  <tr>\n",
       "    <th>1</th>\n",
       "    <th>0.235139</th>\n",
       "    <th>0.218454</th>\n",
       "    <th>0.908475</th>\n",
       "    <th>0.399139</th>\n",
       "  </tr>\n",
       "  <tr>\n",
       "    <th>2</th>\n",
       "    <th>0.238507</th>\n",
       "    <th>0.218190</th>\n",
       "    <th>0.908813</th>\n",
       "    <th>0.428811</th>\n",
       "  </tr>\n",
       "  <tr>\n",
       "    <th>3</th>\n",
       "    <th>0.231320</th>\n",
       "    <th>0.206089</th>\n",
       "    <th>0.914237</th>\n",
       "    <th>0.420927</th>\n",
       "  </tr>\n",
       "  <tr>\n",
       "    <th>4</th>\n",
       "    <th>0.228057</th>\n",
       "    <th>0.202573</th>\n",
       "    <th>0.921356</th>\n",
       "    <th>0.460241</th>\n",
       "  </tr>\n",
       "  <tr>\n",
       "    <th>5</th>\n",
       "    <th>0.226824</th>\n",
       "    <th>0.210637</th>\n",
       "    <th>0.920678</th>\n",
       "    <th>0.460185</th>\n",
       "  </tr>\n",
       "  <tr>\n",
       "    <th>6</th>\n",
       "    <th>0.227409</th>\n",
       "    <th>0.189745</th>\n",
       "    <th>0.923729</th>\n",
       "    <th>0.510606</th>\n",
       "  </tr>\n",
       "  <tr>\n",
       "    <th>7</th>\n",
       "    <th>0.217743</th>\n",
       "    <th>0.187781</th>\n",
       "    <th>0.922373</th>\n",
       "    <th>0.503374</th>\n",
       "  </tr>\n",
       "  <tr>\n",
       "    <th>8</th>\n",
       "    <th>0.218066</th>\n",
       "    <th>0.186549</th>\n",
       "    <th>0.921356</th>\n",
       "    <th>0.481176</th>\n",
       "  </tr>\n",
       "  <tr>\n",
       "    <th>9</th>\n",
       "    <th>0.215383</th>\n",
       "    <th>0.185299</th>\n",
       "    <th>0.924746</th>\n",
       "    <th>0.489853</th>\n",
       "  </tr>\n",
       "  <tr>\n",
       "    <th>10</th>\n",
       "    <th>0.210882</th>\n",
       "    <th>0.189327</th>\n",
       "    <th>0.920678</th>\n",
       "    <th>0.477719</th>\n",
       "  </tr>\n",
       "  <tr>\n",
       "\n",
       "  </tr>\n",
       "</table>\n"
      ],
      "text/plain": [
       "<IPython.core.display.HTML object>"
      ]
     },
     "metadata": {},
     "output_type": "display_data"
    },
    {
     "name": "stdout",
     "output_type": "stream",
     "text": [
      "CPU times: user 14min 30s, sys: 8min 3s, total: 22min 34s\n",
      "Wall time: 23min 1s\n"
     ]
    }
   ],
   "source": [
    "%time learn.fit_one_cycle(10, slice(lr), wd=0.3, div_factor=10, pct_start=0.3)"
   ]
  },
  {
   "cell_type": "code",
   "execution_count": 26,
   "metadata": {},
   "outputs": [],
   "source": [
    "learn.save('dk3_low_256');"
   ]
  },
  {
   "cell_type": "code",
   "execution_count": 27,
   "metadata": {},
   "outputs": [],
   "source": [
    "learn.unfreeze()"
   ]
  },
  {
   "cell_type": "code",
   "execution_count": 28,
   "metadata": {},
   "outputs": [
    {
     "data": {
      "text/html": [
       "Total time: 28:30 <p><table style='width:375px; margin-bottom:10px'>\n",
       "  <tr>\n",
       "    <th>epoch</th>\n",
       "    <th>train_loss</th>\n",
       "    <th>valid_loss</th>\n",
       "    <th>accuracy_thresh</th>\n",
       "    <th>f1</th>\n",
       "  </tr>\n",
       "  <tr>\n",
       "    <th>1</th>\n",
       "    <th>0.215144</th>\n",
       "    <th>0.182445</th>\n",
       "    <th>0.925763</th>\n",
       "    <th>0.501801</th>\n",
       "  </tr>\n",
       "  <tr>\n",
       "    <th>2</th>\n",
       "    <th>0.216636</th>\n",
       "    <th>0.214055</th>\n",
       "    <th>0.912881</th>\n",
       "    <th>0.440970</th>\n",
       "  </tr>\n",
       "  <tr>\n",
       "    <th>3</th>\n",
       "    <th>0.220701</th>\n",
       "    <th>0.188132</th>\n",
       "    <th>0.921695</th>\n",
       "    <th>0.401608</th>\n",
       "  </tr>\n",
       "  <tr>\n",
       "    <th>4</th>\n",
       "    <th>0.215301</th>\n",
       "    <th>0.207184</th>\n",
       "    <th>0.918644</th>\n",
       "    <th>0.475934</th>\n",
       "  </tr>\n",
       "  <tr>\n",
       "    <th>5</th>\n",
       "    <th>0.218456</th>\n",
       "    <th>0.198568</th>\n",
       "    <th>0.918644</th>\n",
       "    <th>0.496637</th>\n",
       "  </tr>\n",
       "  <tr>\n",
       "    <th>6</th>\n",
       "    <th>0.210368</th>\n",
       "    <th>0.179256</th>\n",
       "    <th>0.928814</th>\n",
       "    <th>0.508000</th>\n",
       "  </tr>\n",
       "  <tr>\n",
       "    <th>7</th>\n",
       "    <th>0.200855</th>\n",
       "    <th>0.182576</th>\n",
       "    <th>0.922373</th>\n",
       "    <th>0.436297</th>\n",
       "  </tr>\n",
       "  <tr>\n",
       "    <th>8</th>\n",
       "    <th>0.195623</th>\n",
       "    <th>0.180023</th>\n",
       "    <th>0.926780</th>\n",
       "    <th>0.516698</th>\n",
       "  </tr>\n",
       "  <tr>\n",
       "    <th>9</th>\n",
       "    <th>0.193309</th>\n",
       "    <th>0.165889</th>\n",
       "    <th>0.930170</th>\n",
       "    <th>0.492113</th>\n",
       "  </tr>\n",
       "  <tr>\n",
       "    <th>10</th>\n",
       "    <th>0.191314</th>\n",
       "    <th>0.165421</th>\n",
       "    <th>0.929492</th>\n",
       "    <th>0.516040</th>\n",
       "  </tr>\n",
       "  <tr>\n",
       "\n",
       "  </tr>\n",
       "</table>\n"
      ],
      "text/plain": [
       "<IPython.core.display.HTML object>"
      ]
     },
     "metadata": {},
     "output_type": "display_data"
    },
    {
     "name": "stdout",
     "output_type": "stream",
     "text": [
      "CPU times: user 17min 9s, sys: 10min 56s, total: 28min 5s\n",
      "Wall time: 28min 30s\n"
     ]
    }
   ],
   "source": [
    "%time learn.fit_one_cycle(10, slice(lr/10, lr/3), wd=0.3, div_factor=10, pct_start=0.3)"
   ]
  },
  {
   "cell_type": "code",
   "execution_count": 29,
   "metadata": {},
   "outputs": [],
   "source": [
    "learn.save('dk3_low_256');"
   ]
  },
  {
   "cell_type": "code",
   "execution_count": 30,
   "metadata": {},
   "outputs": [],
   "source": [
    "learn.load('dk3_low_256');\n",
    "learn.data.test_dl.add_tfm(to_half)\n",
    "p,t = learn.get_preds(ds_type=DatasetType.Test)"
   ]
  },
  {
   "cell_type": "markdown",
   "metadata": {},
   "source": [
    "## 512"
   ]
  },
  {
   "cell_type": "code",
   "execution_count": 13,
   "metadata": {},
   "outputs": [],
   "source": [
    "data = get_data(512, 8, 0.01, sample = None)  #training with 512 size does not work.\n",
    "learn = get_learner(data, focal=True, fp16=True)"
   ]
  },
  {
   "cell_type": "code",
   "execution_count": 26,
   "metadata": {},
   "outputs": [],
   "source": [
    "learn.load('dk3_444_se_256');"
   ]
  },
  {
   "cell_type": "code",
   "execution_count": 27,
   "metadata": {},
   "outputs": [],
   "source": [
    "learn.freeze()"
   ]
  },
  {
   "cell_type": "code",
   "execution_count": null,
   "metadata": {},
   "outputs": [
    {
     "data": {
      "text/html": [
       "\n",
       "    <div>\n",
       "        <style>\n",
       "        \t/* Turns off some styling */\n",
       "        \tprogress {\n",
       "\n",
       "            \t/* gets rid of default border in Firefox and Opera. */\n",
       "            \tborder: none;\n",
       "\n",
       "            \t/* Needs to be in here for Safari polyfill so background images work as expected. */\n",
       "            \tbackground-size: auto;\n",
       "            }\n",
       "\n",
       "            .progress-bar-interrupted, .progress-bar-interrupted::-webkit-progress-bar {\n",
       "                background: #F44336;\n",
       "            }\n",
       "        </style>\n",
       "      <progress value='0' class='' max='1', style='width:300px; height:20px; vertical-align: middle;'></progress>\n",
       "      0.00% [0/1 00:00<00:00]\n",
       "    </div>\n",
       "    \n",
       "<table style='width:375px; margin-bottom:10px'>\n",
       "  <tr>\n",
       "    <th>epoch</th>\n",
       "    <th>train_loss</th>\n",
       "    <th>valid_loss</th>\n",
       "    <th>accuracy_thresh</th>\n",
       "    <th>f1</th>\n",
       "  </tr>\n",
       "  <tr>\n",
       "\n",
       "  </tr>\n",
       "</table>\n",
       "\n",
       "\n",
       "    <div>\n",
       "        <style>\n",
       "        \t/* Turns off some styling */\n",
       "        \tprogress {\n",
       "\n",
       "            \t/* gets rid of default border in Firefox and Opera. */\n",
       "            \tborder: none;\n",
       "\n",
       "            \t/* Needs to be in here for Safari polyfill so background images work as expected. */\n",
       "            \tbackground-size: auto;\n",
       "            }\n",
       "\n",
       "            .progress-bar-interrupted, .progress-bar-interrupted::-webkit-progress-bar {\n",
       "                background: #F44336;\n",
       "            }\n",
       "        </style>\n",
       "      <progress value='32' class='' max='12272', style='width:300px; height:20px; vertical-align: middle;'></progress>\n",
       "      0.26% [32/12272 01:02<6:39:46 2.1268]\n",
       "    </div>\n",
       "    "
      ],
      "text/plain": [
       "<IPython.core.display.HTML object>"
      ]
     },
     "metadata": {},
     "output_type": "display_data"
    }
   ],
   "source": [
    "%time learn.fit_one_cycle(1, slice(1e-3), wd=0.3, div_factor=10, pct_start=0.3)"
   ]
  },
  {
   "cell_type": "code",
   "execution_count": null,
   "metadata": {},
   "outputs": [],
   "source": [
    "learn.save('dk3_444_se_512');"
   ]
  },
  {
   "cell_type": "code",
   "execution_count": null,
   "metadata": {},
   "outputs": [],
   "source": [
    "learn.unfreeze()"
   ]
  },
  {
   "cell_type": "code",
   "execution_count": null,
   "metadata": {},
   "outputs": [],
   "source": [
    "%time learn.fit_one_cycle(1, slice(1e-5, 1e-3), div_factor=25, pct_start=0.3)"
   ]
  },
  {
   "cell_type": "code",
   "execution_count": null,
   "metadata": {},
   "outputs": [],
   "source": [
    "learn.save('dk3_444_se_512_2');"
   ]
  },
  {
   "cell_type": "markdown",
   "metadata": {},
   "source": [
    "# Validation and Preds"
   ]
  },
  {
   "cell_type": "code",
   "execution_count": 68,
   "metadata": {},
   "outputs": [
    {
     "name": "stdout",
     "output_type": "stream",
     "text": [
      "Total time: 1:25:22\n",
      "\n"
     ]
    }
   ],
   "source": [
    "learn.data.test_dl.add_tfm(to_half)\n",
    "p,t = learn.get_preds(ds_type=DatasetType.Test)"
   ]
  },
  {
   "cell_type": "code",
   "execution_count": 45,
   "metadata": {},
   "outputs": [
    {
     "data": {
      "text/plain": [
       "torch.Size([11702, 28])"
      ]
     },
     "execution_count": 45,
     "metadata": {},
     "output_type": "execute_result"
    }
   ],
   "source": [
    "p.shape"
   ]
  },
  {
   "cell_type": "markdown",
   "metadata": {},
   "source": [
    "Compute optimal THS"
   ]
  },
  {
   "cell_type": "code",
   "execution_count": 31,
   "metadata": {},
   "outputs": [],
   "source": [
    "#train data preds\n",
    "learn.data.valid_dl.add_tfm(to_half)\n",
    "p_v, t_v = learn.get_preds(ds_type=DatasetType.Valid)"
   ]
  },
  {
   "cell_type": "code",
   "execution_count": 32,
   "metadata": {},
   "outputs": [],
   "source": [
    "p_v_s = p_v.sigmoid()\n",
    "p_v_np, t_v_np = to_np(p_v_s), to_np(t_v)"
   ]
  },
  {
   "cell_type": "code",
   "execution_count": 33,
   "metadata": {},
   "outputs": [
    {
     "data": {
      "text/plain": [
       "array([0.53, 0.63, 0.56, 0.68, 0.68, 0.61, 0.6 , 0.56, 0.67, 0.65])"
      ]
     },
     "execution_count": 33,
     "metadata": {},
     "output_type": "execute_result"
    }
   ],
   "source": [
    "ths = find_thresh(p_v_np, t_v_np); ths"
   ]
  },
  {
   "cell_type": "code",
   "execution_count": 34,
   "metadata": {},
   "outputs": [
    {
     "data": {
      "text/plain": [
       "10"
      ]
     },
     "execution_count": 34,
     "metadata": {},
     "output_type": "execute_result"
    }
   ],
   "source": [
    "len(ths)"
   ]
  },
  {
   "cell_type": "code",
   "execution_count": 37,
   "metadata": {},
   "outputs": [
    {
     "data": {
      "text/plain": [
       "0.6614129357818596"
      ]
     },
     "execution_count": 37,
     "metadata": {},
     "output_type": "execute_result"
    }
   ],
   "source": [
    "f1_np(p_v_np, t_v_np, ths)"
   ]
  },
  {
   "cell_type": "markdown",
   "metadata": {},
   "source": [
    "# Sub File"
   ]
  },
  {
   "cell_type": "code",
   "execution_count": 38,
   "metadata": {},
   "outputs": [
    {
     "name": "stdout",
     "output_type": "stream",
     "text": [
      "(11702, 10)\n"
     ]
    }
   ],
   "source": [
    "preds = to_np(p.sigmoid())  #Check if we are using focal loss or BCE.\n",
    "threshold = ths\n",
    "print(preds.shape)\n",
    "classes = np.array(data.classes)\n",
    "res = np.array([\" \".join(classes[(np.where(pp>threshold))])for pp in preds])"
   ]
  },
  {
   "cell_type": "code",
   "execution_count": 39,
   "metadata": {},
   "outputs": [
    {
     "data": {
      "text/plain": [
       "array(['16', '24', '20', '17', '8', '9', '10', '26', '27', '15'], dtype='<U2')"
      ]
     },
     "execution_count": 39,
     "metadata": {},
     "output_type": "execute_result"
    }
   ],
   "source": [
    "classes"
   ]
  },
  {
   "cell_type": "code",
   "execution_count": 40,
   "metadata": {},
   "outputs": [],
   "source": [
    "frame = pd.DataFrame(np.array([test_names, res]).T, columns = ['Id','Predicted'])\n",
    "frame.to_csv('protein_se.csv', index=False)"
   ]
  },
  {
   "cell_type": "code",
   "execution_count": 41,
   "metadata": {},
   "outputs": [
    {
     "data": {
      "text/html": [
       "<div>\n",
       "<style scoped>\n",
       "    .dataframe tbody tr th:only-of-type {\n",
       "        vertical-align: middle;\n",
       "    }\n",
       "\n",
       "    .dataframe tbody tr th {\n",
       "        vertical-align: top;\n",
       "    }\n",
       "\n",
       "    .dataframe thead th {\n",
       "        text-align: right;\n",
       "    }\n",
       "</style>\n",
       "<table border=\"1\" class=\"dataframe\">\n",
       "  <thead>\n",
       "    <tr style=\"text-align: right;\">\n",
       "      <th></th>\n",
       "      <th>Id</th>\n",
       "      <th>Predicted</th>\n",
       "    </tr>\n",
       "  </thead>\n",
       "  <tbody>\n",
       "    <tr>\n",
       "      <th>0</th>\n",
       "      <td>00008af0-bad0-11e8-b2b8-ac1f6b6435d0</td>\n",
       "      <td>16</td>\n",
       "    </tr>\n",
       "    <tr>\n",
       "      <th>1</th>\n",
       "      <td>0000a892-bacf-11e8-b2b8-ac1f6b6435d0</td>\n",
       "      <td>16</td>\n",
       "    </tr>\n",
       "    <tr>\n",
       "      <th>2</th>\n",
       "      <td>0006faa6-bac7-11e8-b2b7-ac1f6b6435d0</td>\n",
       "      <td>16 26</td>\n",
       "    </tr>\n",
       "    <tr>\n",
       "      <th>3</th>\n",
       "      <td>0008baca-bad7-11e8-b2b9-ac1f6b6435d0</td>\n",
       "      <td>16</td>\n",
       "    </tr>\n",
       "    <tr>\n",
       "      <th>4</th>\n",
       "      <td>000cce7e-bad4-11e8-b2b8-ac1f6b6435d0</td>\n",
       "      <td>16</td>\n",
       "    </tr>\n",
       "  </tbody>\n",
       "</table>\n",
       "</div>"
      ],
      "text/plain": [
       "                                     Id Predicted\n",
       "0  00008af0-bad0-11e8-b2b8-ac1f6b6435d0        16\n",
       "1  0000a892-bacf-11e8-b2b8-ac1f6b6435d0        16\n",
       "2  0006faa6-bac7-11e8-b2b7-ac1f6b6435d0     16 26\n",
       "3  0008baca-bad7-11e8-b2b9-ac1f6b6435d0        16\n",
       "4  000cce7e-bad4-11e8-b2b8-ac1f6b6435d0        16"
      ]
     },
     "execution_count": 41,
     "metadata": {},
     "output_type": "execute_result"
    }
   ],
   "source": [
    "frame.head()"
   ]
  },
  {
   "cell_type": "code",
   "execution_count": null,
   "metadata": {},
   "outputs": [],
   "source": []
  }
 ],
 "metadata": {
  "kernelspec": {
   "display_name": "Python 3",
   "language": "python",
   "name": "python3"
  },
  "language_info": {
   "codemirror_mode": {
    "name": "ipython",
    "version": 3
   },
   "file_extension": ".py",
   "mimetype": "text/x-python",
   "name": "python",
   "nbconvert_exporter": "python",
   "pygments_lexer": "ipython3",
   "version": "3.7.0"
  }
 },
 "nbformat": 4,
 "nbformat_minor": 2
}
