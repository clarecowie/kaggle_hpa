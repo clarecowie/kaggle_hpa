{
 "cells": [
  {
   "cell_type": "code",
   "execution_count": 1,
   "metadata": {},
   "outputs": [],
   "source": [
    "%reload_ext autoreload\n",
    "%autoreload 2\n",
    "\n",
    "from fastai import *\n",
    "from fastai.vision import *\n",
    "from pathlib import Path\n",
    "import PIL\n",
    "import cv2\n",
    "\n",
    "from utils import *\n",
    "\n",
    "\n",
    "torch.backends.cudnn.benchmark = False"
   ]
  },
  {
   "cell_type": "code",
   "execution_count": 2,
   "metadata": {},
   "outputs": [],
   "source": [
    "MASKS = 'train.csv'\n",
    "\n",
    "PATH = Path('./')\n",
    "TRAIN = Path('train512/')\n",
    "TEST = Path('test512/')\n",
    "TRAIN_AUG = Path('../aug/train/')\n",
    "\n",
    "SAMPLE = Path('sample_submission.csv')\n",
    "\n",
    "seg = pd.read_csv(PATH/MASKS)\n",
    "seg_aug = pd.read_csv('../aug/augment.csv', header=None)\n",
    "seg_aug.columns = seg.columns\n",
    "sample_sub = pd.read_csv(PATH/SAMPLE)\n",
    "train_names = list(seg.Id.values)\n",
    "test_names = list(sample_sub.Id.values)\n",
    "\n",
    "classes = [str(l) for l in range(28)]"
   ]
  },
  {
   "cell_type": "code",
   "execution_count": 3,
   "metadata": {},
   "outputs": [
    {
     "data": {
      "text/plain": [
       "103940"
      ]
     },
     "execution_count": 3,
     "metadata": {},
     "output_type": "execute_result"
    }
   ],
   "source": [
    "df = pd.read_csv('aug_train_brian.csv'); len(df)"
   ]
  },
  {
   "cell_type": "code",
   "execution_count": 4,
   "metadata": {},
   "outputs": [],
   "source": [
    "# train_df = df.copy()\n",
    "# train_df_orig=train_df.copy()    \n",
    "# lows = [15,15,15,8,9,10,8,9,10,8,9,10,17,20,24,26,15,27,15,20,24,17,8,15,27,27,27]\n",
    "# for i in lows:\n",
    "#     target = str(i)\n",
    "#     indicies = train_df_orig.loc[train_df_orig['Target'] == target].index\n",
    "#     train_df = pd.concat([train_df,train_df_orig.loc[indicies]], ignore_index=True)\n",
    "#     indicies = train_df_orig.loc[train_df_orig['Target'].str.startswith(target+\" \")].index\n",
    "#     train_df = pd.concat([train_df,train_df_orig.loc[indicies]], ignore_index=True)\n",
    "#     indicies = train_df_orig.loc[train_df_orig['Target'].str.endswith(\" \"+target)].index\n",
    "#     train_df = pd.concat([train_df,train_df_orig.loc[indicies]], ignore_index=True)\n",
    "#     indicies = train_df_orig.loc[train_df_orig['Target'].str.contains(\" \"+target+\" \")].index\n",
    "#     train_df = pd.concat([train_df,train_df_orig.loc[indicies]], ignore_index=True)"
   ]
  },
  {
   "cell_type": "code",
   "execution_count": 5,
   "metadata": {},
   "outputs": [],
   "source": [
    "def count_classes(df):\n",
    "    out = np.zeros(28, dtype=int)\n",
    "    for i in range(len(df)):\n",
    "        idxs = [int(x) for x in df.Target.iloc[i].split()]\n",
    "        out[idxs]+=1\n",
    "    return out"
   ]
  },
  {
   "cell_type": "code",
   "execution_count": 6,
   "metadata": {},
   "outputs": [
    {
     "data": {
      "text/plain": [
       "array([40189,  2752,  9572,  3312,  4902,  5133,  3473,  7666,   945,   856,   788,  1922,  1741,  1137,  2598,   287,\n",
       "        1156,   864,  1645,  3157,  1056, 11490,  1996,  9193,  1530, 33600,  1292,    55])"
      ]
     },
     "execution_count": 6,
     "metadata": {},
     "output_type": "execute_result"
    }
   ],
   "source": [
    "count_classes(df)"
   ]
  },
  {
   "cell_type": "code",
   "execution_count": 7,
   "metadata": {},
   "outputs": [],
   "source": [
    "arch = models.resnet18"
   ]
  },
  {
   "cell_type": "code",
   "execution_count": 8,
   "metadata": {},
   "outputs": [],
   "source": [
    "stats = ([0.08069, 0.05258, 0.05487], [0.13704,0.10145, 0.15313])\n",
    "tfms = get_transforms(do_flip=True, flip_vert=True, \n",
    "                      max_lighting=0.1, max_warp=0.4)"
   ]
  },
  {
   "cell_type": "code",
   "execution_count": 9,
   "metadata": {},
   "outputs": [],
   "source": [
    "def get_data(sz=64, bs=64, pct=0.2, sample=5000):\n",
    "#     sz, pct, bs = 64, 0.2, 64\n",
    "    src = (ImageItemList.from_df(df=df, path=PATH, folder=TRAIN_AUG, suffix='.png')\n",
    "           .random_split_by_pct(pct)\n",
    "           .label_from_df(sep=' ', classes=classes)\n",
    "           .add_test([TEST/(f+'.png') for f in test_names]))\n",
    "    data = (src.transform(tfms, size=sz)\n",
    "            .databunch(bs=bs).normalize(stats))\n",
    "    return data\n"
   ]
  },
  {
   "cell_type": "code",
   "execution_count": 10,
   "metadata": {},
   "outputs": [],
   "source": [
    "def get_learner(data, focal=False, fp16=False):\n",
    "    learn = create_cnn(data, arch, metrics=[accuracy_thresh, f1], \n",
    "               callback_fns=[partial(GradientClipping, clip=0.1), ShowGraph])\n",
    "    if focal: learn.loss_func = FocalLoss()\n",
    "    if fp16: learn.to_fp16();\n",
    "#     learn.split((arch.layers[9],arch.layers[13]))  #Split for 444 model [11,20]\n",
    "    return learn.mixup(stack_y=False)"
   ]
  },
  {
   "cell_type": "markdown",
   "metadata": {},
   "source": [
    "# 256"
   ]
  },
  {
   "cell_type": "code",
   "execution_count": 13,
   "metadata": {},
   "outputs": [],
   "source": [
    "data = get_data(256, 256, 0.1, sample=None)"
   ]
  },
  {
   "cell_type": "code",
   "execution_count": 12,
   "metadata": {},
   "outputs": [],
   "source": [
    "learn = get_learner(data, focal=True, fp16=True)"
   ]
  },
  {
   "cell_type": "code",
   "execution_count": 14,
   "metadata": {},
   "outputs": [],
   "source": [
    "# learn.model = nn.DataParallel(learn.model)"
   ]
  },
  {
   "cell_type": "code",
   "execution_count": 15,
   "metadata": {},
   "outputs": [],
   "source": [
    "lr = 1e-2"
   ]
  },
  {
   "cell_type": "code",
   "execution_count": 62,
   "metadata": {},
   "outputs": [
    {
     "data": {
      "text/html": [
       "Total time: 32:08 <p><table style='width:375px; margin-bottom:10px'>\n",
       "  <tr>\n",
       "    <th>epoch</th>\n",
       "    <th>train_loss</th>\n",
       "    <th>valid_loss</th>\n",
       "    <th>accuracy_thresh</th>\n",
       "    <th>f1</th>\n",
       "  </tr>\n",
       "  <tr>\n",
       "    <th>1</th>\n",
       "    <th>1.319237</th>\n",
       "    <th>1.063394</th>\n",
       "    <th>0.955624</th>\n",
       "    <th>0.091586</th>\n",
       "  </tr>\n",
       "  <tr>\n",
       "    <th>2</th>\n",
       "    <th>1.112446</th>\n",
       "    <th>0.931107</th>\n",
       "    <th>0.959661</th>\n",
       "    <th>0.186991</th>\n",
       "  </tr>\n",
       "  <tr>\n",
       "    <th>3</th>\n",
       "    <th>1.028160</th>\n",
       "    <th>0.870205</th>\n",
       "    <th>0.962067</th>\n",
       "    <th>0.224027</th>\n",
       "  </tr>\n",
       "  <tr>\n",
       "    <th>4</th>\n",
       "    <th>0.973064</th>\n",
       "    <th>0.834725</th>\n",
       "    <th>0.962849</th>\n",
       "    <th>0.271862</th>\n",
       "  </tr>\n",
       "  <tr>\n",
       "    <th>5</th>\n",
       "    <th>0.942036</th>\n",
       "    <th>0.810959</th>\n",
       "    <th>0.963900</th>\n",
       "    <th>0.282427</th>\n",
       "  </tr>\n",
       "  <tr>\n",
       "    <th>6</th>\n",
       "    <th>0.923280</th>\n",
       "    <th>0.808427</th>\n",
       "    <th>0.963994</th>\n",
       "    <th>0.293818</th>\n",
       "  </tr>\n",
       "</table>\n"
      ],
      "text/plain": [
       "<IPython.core.display.HTML object>"
      ]
     },
     "metadata": {},
     "output_type": "display_data"
    },
    {
     "data": {
      "image/png": "[encoded data removed]",
      "text/plain": [
       "<Figure size 432x288 with 1 Axes>"
      ]
     },
     "metadata": {},
     "output_type": "display_data"
    },
    {
     "name": "stdout",
     "output_type": "stream",
     "text": [
      "CPU times: user 7min 20s, sys: 2min 54s, total: 10min 15s\n",
      "Wall time: 32min 8s\n"
     ]
    }
   ],
   "source": [
    "%time learn.fit_one_cycle(6, slice(lr))"
   ]
  },
  {
   "cell_type": "code",
   "execution_count": 16,
   "metadata": {},
   "outputs": [
    {
     "ename": "RuntimeError",
     "evalue": "Error(s) in loading state_dict for Sequential:\n\tMissing key(s) in state_dict: \"0.0.weight\", \"0.1.weight\", \"0.1.bias\", \"0.1.running_mean\", \"0.1.running_var\", \"0.4.0.conv1.weight\", \"0.4.0.bn1.weight\", \"0.4.0.bn1.bias\", \"0.4.0.bn1.running_mean\", \"0.4.0.bn1.running_var\", \"0.4.0.conv2.weight\", \"0.4.0.bn2.weight\", \"0.4.0.bn2.bias\", \"0.4.0.bn2.running_mean\", \"0.4.0.bn2.running_var\", \"0.4.1.conv1.weight\", \"0.4.1.bn1.weight\", \"0.4.1.bn1.bias\", \"0.4.1.bn1.running_mean\", \"0.4.1.bn1.running_var\", \"0.4.1.conv2.weight\", \"0.4.1.bn2.weight\", \"0.4.1.bn2.bias\", \"0.4.1.bn2.running_mean\", \"0.4.1.bn2.running_var\", \"0.5.0.conv1.weight\", \"0.5.0.bn1.weight\", \"0.5.0.bn1.bias\", \"0.5.0.bn1.running_mean\", \"0.5.0.bn1.running_var\", \"0.5.0.conv2.weight\", \"0.5.0.bn2.weight\", \"0.5.0.bn2.bias\", \"0.5.0.bn2.running_mean\", \"0.5.0.bn2.running_var\", \"0.5.0.downsample.0.weight\", \"0.5.0.downsample.1.weight\", \"0.5.0.downsample.1.bias\", \"0.5.0.downsample.1.running_mean\", \"0.5.0.downsample.1.running_var\", \"0.5.1.conv1.weight\", \"0.5.1.bn1.weight\", \"0.5.1.bn1.bias\", \"0.5.1.bn1.running_mean\", \"0.5.1.bn1.running_var\", \"0.5.1.conv2.weight\", \"0.5.1.bn2.weight\", \"0.5.1.bn2.bias\", \"0.5.1.bn2.running_mean\", \"0.5.1.bn2.running_var\", \"0.6.0.conv1.weight\", \"0.6.0.bn1.weight\", \"0.6.0.bn1.bias\", \"0.6.0.bn1.running_mean\", \"0.6.0.bn1.running_var\", \"0.6.0.conv2.weight\", \"0.6.0.bn2.weight\", \"0.6.0.bn2.bias\", \"0.6.0.bn2.running_mean\", \"0.6.0.bn2.running_var\", \"0.6.0.downsample.0.weight\", \"0.6.0.downsample.1.weight\", \"0.6.0.downsample.1.bias\", \"0.6.0.downsample.1.running_mean\", \"0.6.0.downsample.1.running_var\", \"0.6.1.conv1.weight\", \"0.6.1.bn1.weight\", \"0.6.1.bn1.bias\", \"0.6.1.bn1.running_mean\", \"0.6.1.bn1.running_var\", \"0.6.1.conv2.weight\", \"0.6.1.bn2.weight\", \"0.6.1.bn2.bias\", \"0.6.1.bn2.running_mean\", \"0.6.1.bn2.running_var\", \"0.7.0.conv1.weight\", \"0.7.0.bn1.weight\", \"0.7.0.bn1.bias\", \"0.7.0.bn1.running_mean\", \"0.7.0.bn1.running_var\", \"0.7.0.conv2.weight\", \"0.7.0.bn2.weight\", \"0.7.0.bn2.bias\", \"0.7.0.bn2.running_mean\", \"0.7.0.bn2.running_var\", \"0.7.0.downsample.0.weight\", \"0.7.0.downsample.1.weight\", \"0.7.0.downsample.1.bias\", \"0.7.0.downsample.1.running_mean\", \"0.7.0.downsample.1.running_var\", \"0.7.1.conv1.weight\", \"0.7.1.bn1.weight\", \"0.7.1.bn1.bias\", \"0.7.1.bn1.running_mean\", \"0.7.1.bn1.running_var\", \"0.7.1.conv2.weight\", \"0.7.1.bn2.weight\", \"0.7.1.bn2.bias\", \"0.7.1.bn2.running_mean\", \"0.7.1.bn2.running_var\", \"1.2.weight\", \"1.2.bias\", \"1.2.running_mean\", \"1.2.running_var\", \"1.4.weight\", \"1.4.bias\", \"1.6.weight\", \"1.6.bias\", \"1.6.running_mean\", \"1.6.running_var\", \"1.8.weight\", \"1.8.bias\". \n\tUnexpected key(s) in state_dict: \"module.0.0.weight\", \"module.0.1.weight\", \"module.0.1.bias\", \"module.0.1.running_mean\", \"module.0.1.running_var\", \"module.0.1.num_batches_tracked\", \"module.0.4.0.conv1.weight\", \"module.0.4.0.bn1.weight\", \"module.0.4.0.bn1.bias\", \"module.0.4.0.bn1.running_mean\", \"module.0.4.0.bn1.running_var\", \"module.0.4.0.bn1.num_batches_tracked\", \"module.0.4.0.conv2.weight\", \"module.0.4.0.bn2.weight\", \"module.0.4.0.bn2.bias\", \"module.0.4.0.bn2.running_mean\", \"module.0.4.0.bn2.running_var\", \"module.0.4.0.bn2.num_batches_tracked\", \"module.0.4.1.conv1.weight\", \"module.0.4.1.bn1.weight\", \"module.0.4.1.bn1.bias\", \"module.0.4.1.bn1.running_mean\", \"module.0.4.1.bn1.running_var\", \"module.0.4.1.bn1.num_batches_tracked\", \"module.0.4.1.conv2.weight\", \"module.0.4.1.bn2.weight\", \"module.0.4.1.bn2.bias\", \"module.0.4.1.bn2.running_mean\", \"module.0.4.1.bn2.running_var\", \"module.0.4.1.bn2.num_batches_tracked\", \"module.0.5.0.conv1.weight\", \"module.0.5.0.bn1.weight\", \"module.0.5.0.bn1.bias\", \"module.0.5.0.bn1.running_mean\", \"module.0.5.0.bn1.running_var\", \"module.0.5.0.bn1.num_batches_tracked\", \"module.0.5.0.conv2.weight\", \"module.0.5.0.bn2.weight\", \"module.0.5.0.bn2.bias\", \"module.0.5.0.bn2.running_mean\", \"module.0.5.0.bn2.running_var\", \"module.0.5.0.bn2.num_batches_tracked\", \"module.0.5.0.downsample.0.weight\", \"module.0.5.0.downsample.1.weight\", \"module.0.5.0.downsample.1.bias\", \"module.0.5.0.downsample.1.running_mean\", \"module.0.5.0.downsample.1.running_var\", \"module.0.5.0.downsample.1.num_batches_tracked\", \"module.0.5.1.conv1.weight\", \"module.0.5.1.bn1.weight\", \"module.0.5.1.bn1.bias\", \"module.0.5.1.bn1.running_mean\", \"module.0.5.1.bn1.running_var\", \"module.0.5.1.bn1.num_batches_tracked\", \"module.0.5.1.conv2.weight\", \"module.0.5.1.bn2.weight\", \"module.0.5.1.bn2.bias\", \"module.0.5.1.bn2.running_mean\", \"module.0.5.1.bn2.running_var\", \"module.0.5.1.bn2.num_batches_tracked\", \"module.0.6.0.conv1.weight\", \"module.0.6.0.bn1.weight\", \"module.0.6.0.bn1.bias\", \"module.0.6.0.bn1.running_mean\", \"module.0.6.0.bn1.running_var\", \"module.0.6.0.bn1.num_batches_tracked\", \"module.0.6.0.conv2.weight\", \"module.0.6.0.bn2.weight\", \"module.0.6.0.bn2.bias\", \"module.0.6.0.bn2.running_mean\", \"module.0.6.0.bn2.running_var\", \"module.0.6.0.bn2.num_batches_tracked\", \"module.0.6.0.downsample.0.weight\", \"module.0.6.0.downsample.1.weight\", \"module.0.6.0.downsample.1.bias\", \"module.0.6.0.downsample.1.running_mean\", \"module.0.6.0.downsample.1.running_var\", \"module.0.6.0.downsample.1.num_batches_tracked\", \"module.0.6.1.conv1.weight\", \"module.0.6.1.bn1.weight\", \"module.0.6.1.bn1.bias\", \"module.0.6.1.bn1.running_mean\", \"module.0.6.1.bn1.running_var\", \"module.0.6.1.bn1.num_batches_tracked\", \"module.0.6.1.conv2.weight\", \"module.0.6.1.bn2.weight\", \"module.0.6.1.bn2.bias\", \"module.0.6.1.bn2.running_mean\", \"module.0.6.1.bn2.running_var\", \"module.0.6.1.bn2.num_batches_tracked\", \"module.0.7.0.conv1.weight\", \"module.0.7.0.bn1.weight\", \"module.0.7.0.bn1.bias\", \"module.0.7.0.bn1.running_mean\", \"module.0.7.0.bn1.running_var\", \"module.0.7.0.bn1.num_batches_tracked\", \"module.0.7.0.conv2.weight\", \"module.0.7.0.bn2.weight\", \"module.0.7.0.bn2.bias\", \"module.0.7.0.bn2.running_mean\", \"module.0.7.0.bn2.running_var\", \"module.0.7.0.bn2.num_batches_tracked\", \"module.0.7.0.downsample.0.weight\", \"module.0.7.0.downsample.1.weight\", \"module.0.7.0.downsample.1.bias\", \"module.0.7.0.downsample.1.running_mean\", \"module.0.7.0.downsample.1.running_var\", \"module.0.7.0.downsample.1.num_batches_tracked\", \"module.0.7.1.conv1.weight\", \"module.0.7.1.bn1.weight\", \"module.0.7.1.bn1.bias\", \"module.0.7.1.bn1.running_mean\", \"module.0.7.1.bn1.running_var\", \"module.0.7.1.bn1.num_batches_tracked\", \"module.0.7.1.conv2.weight\", \"module.0.7.1.bn2.weight\", \"module.0.7.1.bn2.bias\", \"module.0.7.1.bn2.running_mean\", \"module.0.7.1.bn2.running_var\", \"module.0.7.1.bn2.num_batches_tracked\", \"module.1.2.weight\", \"module.1.2.bias\", \"module.1.2.running_mean\", \"module.1.2.running_var\", \"module.1.2.num_batches_tracked\", \"module.1.4.weight\", \"module.1.4.bias\", \"module.1.6.weight\", \"module.1.6.bias\", \"module.1.6.running_mean\", \"module.1.6.running_var\", \"module.1.6.num_batches_tracked\", \"module.1.8.weight\", \"module.1.8.bias\". ",
     "output_type": "error",
     "traceback": [
      "\u001b[0;31m---------------------------------------------------------------------------\u001b[0m",
      "\u001b[0;31mRuntimeError\u001b[0m                              Traceback (most recent call last)",
      "\u001b[0;32m<ipython-input-16-7c228148de47>\u001b[0m in \u001b[0;36m<module>\u001b[0;34m\u001b[0m\n\u001b[0;32m----> 1\u001b[0;31m \u001b[0mlearn\u001b[0m\u001b[0;34m.\u001b[0m\u001b[0mload\u001b[0m\u001b[0;34m(\u001b[0m\u001b[0;34m'r18_final'\u001b[0m\u001b[0;34m)\u001b[0m\u001b[0;34m;\u001b[0m\u001b[0;34m\u001b[0m\u001b[0m\n\u001b[0m",
      "\u001b[0;32m/opt/anaconda3/lib/python3.7/site-packages/fastai/basic_train.py\u001b[0m in \u001b[0;36mload\u001b[0;34m(self, name, device, strict, with_opt)\u001b[0m\n\u001b[1;32m    213\u001b[0m         \u001b[0mstate\u001b[0m \u001b[0;34m=\u001b[0m \u001b[0mtorch\u001b[0m\u001b[0;34m.\u001b[0m\u001b[0mload\u001b[0m\u001b[0;34m(\u001b[0m\u001b[0mself\u001b[0m\u001b[0;34m.\u001b[0m\u001b[0mpath\u001b[0m\u001b[0;34m/\u001b[0m\u001b[0mself\u001b[0m\u001b[0;34m.\u001b[0m\u001b[0mmodel_dir\u001b[0m\u001b[0;34m/\u001b[0m\u001b[0;34mf'{name}.pth'\u001b[0m\u001b[0;34m,\u001b[0m \u001b[0mmap_location\u001b[0m\u001b[0;34m=\u001b[0m\u001b[0mdevice\u001b[0m\u001b[0;34m)\u001b[0m\u001b[0;34m\u001b[0m\u001b[0m\n\u001b[1;32m    214\u001b[0m         \u001b[0;32mif\u001b[0m \u001b[0mset\u001b[0m\u001b[0;34m(\u001b[0m\u001b[0mstate\u001b[0m\u001b[0;34m.\u001b[0m\u001b[0mkeys\u001b[0m\u001b[0;34m(\u001b[0m\u001b[0;34m)\u001b[0m\u001b[0;34m)\u001b[0m \u001b[0;34m==\u001b[0m \u001b[0;34m{\u001b[0m\u001b[0;34m'model'\u001b[0m\u001b[0;34m,\u001b[0m \u001b[0;34m'opt'\u001b[0m\u001b[0;34m}\u001b[0m\u001b[0;34m:\u001b[0m\u001b[0;34m\u001b[0m\u001b[0m\n\u001b[0;32m--> 215\u001b[0;31m             \u001b[0mself\u001b[0m\u001b[0;34m.\u001b[0m\u001b[0mmodel\u001b[0m\u001b[0;34m.\u001b[0m\u001b[0mload_state_dict\u001b[0m\u001b[0;34m(\u001b[0m\u001b[0mstate\u001b[0m\u001b[0;34m[\u001b[0m\u001b[0;34m'model'\u001b[0m\u001b[0;34m]\u001b[0m\u001b[0;34m,\u001b[0m \u001b[0mstrict\u001b[0m\u001b[0;34m=\u001b[0m\u001b[0mstrict\u001b[0m\u001b[0;34m)\u001b[0m\u001b[0;34m\u001b[0m\u001b[0m\n\u001b[0m\u001b[1;32m    216\u001b[0m             \u001b[0;32mif\u001b[0m \u001b[0mifnone\u001b[0m\u001b[0;34m(\u001b[0m\u001b[0mwith_opt\u001b[0m\u001b[0;34m,\u001b[0m\u001b[0;32mTrue\u001b[0m\u001b[0;34m)\u001b[0m\u001b[0;34m:\u001b[0m\u001b[0;34m\u001b[0m\u001b[0m\n\u001b[1;32m    217\u001b[0m                 \u001b[0;32mif\u001b[0m \u001b[0;32mnot\u001b[0m \u001b[0mhasattr\u001b[0m\u001b[0;34m(\u001b[0m\u001b[0mself\u001b[0m\u001b[0;34m,\u001b[0m \u001b[0;34m'opt'\u001b[0m\u001b[0;34m)\u001b[0m\u001b[0;34m:\u001b[0m \u001b[0mopt\u001b[0m \u001b[0;34m=\u001b[0m \u001b[0mself\u001b[0m\u001b[0;34m.\u001b[0m\u001b[0mcreate_opt\u001b[0m\u001b[0;34m(\u001b[0m\u001b[0mdefaults\u001b[0m\u001b[0;34m.\u001b[0m\u001b[0mlr\u001b[0m\u001b[0;34m,\u001b[0m \u001b[0mself\u001b[0m\u001b[0;34m.\u001b[0m\u001b[0mwd\u001b[0m\u001b[0;34m)\u001b[0m\u001b[0;34m\u001b[0m\u001b[0m\n",
      "\u001b[0;32m/opt/anaconda3/lib/python3.7/site-packages/torch/nn/modules/module.py\u001b[0m in \u001b[0;36mload_state_dict\u001b[0;34m(self, state_dict, strict)\u001b[0m\n\u001b[1;32m    757\u001b[0m         \u001b[0;32mif\u001b[0m \u001b[0mlen\u001b[0m\u001b[0;34m(\u001b[0m\u001b[0merror_msgs\u001b[0m\u001b[0;34m)\u001b[0m \u001b[0;34m>\u001b[0m \u001b[0;36m0\u001b[0m\u001b[0;34m:\u001b[0m\u001b[0;34m\u001b[0m\u001b[0m\n\u001b[1;32m    758\u001b[0m             raise RuntimeError('Error(s) in loading state_dict for {}:\\n\\t{}'.format(\n\u001b[0;32m--> 759\u001b[0;31m                                self.__class__.__name__, \"\\n\\t\".join(error_msgs)))\n\u001b[0m\u001b[1;32m    760\u001b[0m \u001b[0;34m\u001b[0m\u001b[0m\n\u001b[1;32m    761\u001b[0m     \u001b[0;32mdef\u001b[0m \u001b[0m_named_members\u001b[0m\u001b[0;34m(\u001b[0m\u001b[0mself\u001b[0m\u001b[0;34m,\u001b[0m \u001b[0mget_members_fn\u001b[0m\u001b[0;34m,\u001b[0m \u001b[0mprefix\u001b[0m\u001b[0;34m=\u001b[0m\u001b[0;34m''\u001b[0m\u001b[0;34m,\u001b[0m \u001b[0mrecurse\u001b[0m\u001b[0;34m=\u001b[0m\u001b[0;32mTrue\u001b[0m\u001b[0;34m)\u001b[0m\u001b[0;34m:\u001b[0m\u001b[0;34m\u001b[0m\u001b[0m\n",
      "\u001b[0;31mRuntimeError\u001b[0m: Error(s) in loading state_dict for Sequential:\n\tMissing key(s) in state_dict: \"0.0.weight\", \"0.1.weight\", \"0.1.bias\", \"0.1.running_mean\", \"0.1.running_var\", \"0.4.0.conv1.weight\", \"0.4.0.bn1.weight\", \"0.4.0.bn1.bias\", \"0.4.0.bn1.running_mean\", \"0.4.0.bn1.running_var\", \"0.4.0.conv2.weight\", \"0.4.0.bn2.weight\", \"0.4.0.bn2.bias\", \"0.4.0.bn2.running_mean\", \"0.4.0.bn2.running_var\", \"0.4.1.conv1.weight\", \"0.4.1.bn1.weight\", \"0.4.1.bn1.bias\", \"0.4.1.bn1.running_mean\", \"0.4.1.bn1.running_var\", \"0.4.1.conv2.weight\", \"0.4.1.bn2.weight\", \"0.4.1.bn2.bias\", \"0.4.1.bn2.running_mean\", \"0.4.1.bn2.running_var\", \"0.5.0.conv1.weight\", \"0.5.0.bn1.weight\", \"0.5.0.bn1.bias\", \"0.5.0.bn1.running_mean\", \"0.5.0.bn1.running_var\", \"0.5.0.conv2.weight\", \"0.5.0.bn2.weight\", \"0.5.0.bn2.bias\", \"0.5.0.bn2.running_mean\", \"0.5.0.bn2.running_var\", \"0.5.0.downsample.0.weight\", \"0.5.0.downsample.1.weight\", \"0.5.0.downsample.1.bias\", \"0.5.0.downsample.1.running_mean\", \"0.5.0.downsample.1.running_var\", \"0.5.1.conv1.weight\", \"0.5.1.bn1.weight\", \"0.5.1.bn1.bias\", \"0.5.1.bn1.running_mean\", \"0.5.1.bn1.running_var\", \"0.5.1.conv2.weight\", \"0.5.1.bn2.weight\", \"0.5.1.bn2.bias\", \"0.5.1.bn2.running_mean\", \"0.5.1.bn2.running_var\", \"0.6.0.conv1.weight\", \"0.6.0.bn1.weight\", \"0.6.0.bn1.bias\", \"0.6.0.bn1.running_mean\", \"0.6.0.bn1.running_var\", \"0.6.0.conv2.weight\", \"0.6.0.bn2.weight\", \"0.6.0.bn2.bias\", \"0.6.0.bn2.running_mean\", \"0.6.0.bn2.running_var\", \"0.6.0.downsample.0.weight\", \"0.6.0.downsample.1.weight\", \"0.6.0.downsample.1.bias\", \"0.6.0.downsample.1.running_mean\", \"0.6.0.downsample.1.running_var\", \"0.6.1.conv1.weight\", \"0.6.1.bn1.weight\", \"0.6.1.bn1.bias\", \"0.6.1.bn1.running_mean\", \"0.6.1.bn1.running_var\", \"0.6.1.conv2.weight\", \"0.6.1.bn2.weight\", \"0.6.1.bn2.bias\", \"0.6.1.bn2.running_mean\", \"0.6.1.bn2.running_var\", \"0.7.0.conv1.weight\", \"0.7.0.bn1.weight\", \"0.7.0.bn1.bias\", \"0.7.0.bn1.running_mean\", \"0.7.0.bn1.running_var\", \"0.7.0.conv2.weight\", \"0.7.0.bn2.weight\", \"0.7.0.bn2.bias\", \"0.7.0.bn2.running_mean\", \"0.7.0.bn2.running_var\", \"0.7.0.downsample.0.weight\", \"0.7.0.downsample.1.weight\", \"0.7.0.downsample.1.bias\", \"0.7.0.downsample.1.running_mean\", \"0.7.0.downsample.1.running_var\", \"0.7.1.conv1.weight\", \"0.7.1.bn1.weight\", \"0.7.1.bn1.bias\", \"0.7.1.bn1.running_mean\", \"0.7.1.bn1.running_var\", \"0.7.1.conv2.weight\", \"0.7.1.bn2.weight\", \"0.7.1.bn2.bias\", \"0.7.1.bn2.running_mean\", \"0.7.1.bn2.running_var\", \"1.2.weight\", \"1.2.bias\", \"1.2.running_mean\", \"1.2.running_var\", \"1.4.weight\", \"1.4.bias\", \"1.6.weight\", \"1.6.bias\", \"1.6.running_mean\", \"1.6.running_var\", \"1.8.weight\", \"1.8.bias\". \n\tUnexpected key(s) in state_dict: \"module.0.0.weight\", \"module.0.1.weight\", \"module.0.1.bias\", \"module.0.1.running_mean\", \"module.0.1.running_var\", \"module.0.1.num_batches_tracked\", \"module.0.4.0.conv1.weight\", \"module.0.4.0.bn1.weight\", \"module.0.4.0.bn1.bias\", \"module.0.4.0.bn1.running_mean\", \"module.0.4.0.bn1.running_var\", \"module.0.4.0.bn1.num_batches_tracked\", \"module.0.4.0.conv2.weight\", \"module.0.4.0.bn2.weight\", \"module.0.4.0.bn2.bias\", \"module.0.4.0.bn2.running_mean\", \"module.0.4.0.bn2.running_var\", \"module.0.4.0.bn2.num_batches_tracked\", \"module.0.4.1.conv1.weight\", \"module.0.4.1.bn1.weight\", \"module.0.4.1.bn1.bias\", \"module.0.4.1.bn1.running_mean\", \"module.0.4.1.bn1.running_var\", \"module.0.4.1.bn1.num_batches_tracked\", \"module.0.4.1.conv2.weight\", \"module.0.4.1.bn2.weight\", \"module.0.4.1.bn2.bias\", \"module.0.4.1.bn2.running_mean\", \"module.0.4.1.bn2.running_var\", \"module.0.4.1.bn2.num_batches_tracked\", \"module.0.5.0.conv1.weight\", \"module.0.5.0.bn1.weight\", \"module.0.5.0.bn1.bias\", \"module.0.5.0.bn1.running_mean\", \"module.0.5.0.bn1.running_var\", \"module.0.5.0.bn1.num_batches_tracked\", \"module.0.5.0.conv2.weight\", \"module.0.5.0.bn2.weight\", \"module.0.5.0.bn2.bias\", \"module.0.5.0.bn2.running_mean\", \"module.0.5.0.bn2.running_var\", \"module.0.5.0.bn2.num_batches_tracked\", \"module.0.5.0.downsample.0.weight\", \"module.0.5.0.downsample.1.weight\", \"module.0.5.0.downsample.1.bias\", \"module.0.5.0.downsample.1.running_mean\", \"module.0.5.0.downsample.1.running_var\", \"module.0.5.0.downsample.1.num_batches_tracked\", \"module.0.5.1.conv1.weight\", \"module.0.5.1.bn1.weight\", \"module.0.5.1.bn1.bias\", \"module.0.5.1.bn1.running_mean\", \"module.0.5.1.bn1.running_var\", \"module.0.5.1.bn1.num_batches_tracked\", \"module.0.5.1.conv2.weight\", \"module.0.5.1.bn2.weight\", \"module.0.5.1.bn2.bias\", \"module.0.5.1.bn2.running_mean\", \"module.0.5.1.bn2.running_var\", \"module.0.5.1.bn2.num_batches_tracked\", \"module.0.6.0.conv1.weight\", \"module.0.6.0.bn1.weight\", \"module.0.6.0.bn1.bias\", \"module.0.6.0.bn1.running_mean\", \"module.0.6.0.bn1.running_var\", \"module.0.6.0.bn1.num_batches_tracked\", \"module.0.6.0.conv2.weight\", \"module.0.6.0.bn2.weight\", \"module.0.6.0.bn2.bias\", \"module.0.6.0.bn2.running_mean\", \"module.0.6.0.bn2.running_var\", \"module.0.6.0.bn2.num_batches_tracked\", \"module.0.6.0.downsample.0.weight\", \"module.0.6.0.downsample.1.weight\", \"module.0.6.0.downsample.1.bias\", \"module.0.6.0.downsample.1.running_mean\", \"module.0.6.0.downsample.1.running_var\", \"module.0.6.0.downsample.1.num_batches_tracked\", \"module.0.6.1.conv1.weight\", \"module.0.6.1.bn1.weight\", \"module.0.6.1.bn1.bias\", \"module.0.6.1.bn1.running_mean\", \"module.0.6.1.bn1.running_var\", \"module.0.6.1.bn1.num_batches_tracked\", \"module.0.6.1.conv2.weight\", \"module.0.6.1.bn2.weight\", \"module.0.6.1.bn2.bias\", \"module.0.6.1.bn2.running_mean\", \"module.0.6.1.bn2.running_var\", \"module.0.6.1.bn2.num_batches_tracked\", \"module.0.7.0.conv1.weight\", \"module.0.7.0.bn1.weight\", \"module.0.7.0.bn1.bias\", \"module.0.7.0.bn1.running_mean\", \"module.0.7.0.bn1.running_var\", \"module.0.7.0.bn1.num_batches_tracked\", \"module.0.7.0.conv2.weight\", \"module.0.7.0.bn2.weight\", \"module.0.7.0.bn2.bias\", \"module.0.7.0.bn2.running_mean\", \"module.0.7.0.bn2.running_var\", \"module.0.7.0.bn2.num_batches_tracked\", \"module.0.7.0.downsample.0.weight\", \"module.0.7.0.downsample.1.weight\", \"module.0.7.0.downsample.1.bias\", \"module.0.7.0.downsample.1.running_mean\", \"module.0.7.0.downsample.1.running_var\", \"module.0.7.0.downsample.1.num_batches_tracked\", \"module.0.7.1.conv1.weight\", \"module.0.7.1.bn1.weight\", \"module.0.7.1.bn1.bias\", \"module.0.7.1.bn1.running_mean\", \"module.0.7.1.bn1.running_var\", \"module.0.7.1.bn1.num_batches_tracked\", \"module.0.7.1.conv2.weight\", \"module.0.7.1.bn2.weight\", \"module.0.7.1.bn2.bias\", \"module.0.7.1.bn2.running_mean\", \"module.0.7.1.bn2.running_var\", \"module.0.7.1.bn2.num_batches_tracked\", \"module.1.2.weight\", \"module.1.2.bias\", \"module.1.2.running_mean\", \"module.1.2.running_var\", \"module.1.2.num_batches_tracked\", \"module.1.4.weight\", \"module.1.4.bias\", \"module.1.6.weight\", \"module.1.6.bias\", \"module.1.6.running_mean\", \"module.1.6.running_var\", \"module.1.6.num_batches_tracked\", \"module.1.8.weight\", \"module.1.8.bias\". "
     ]
    }
   ],
   "source": [
    "learn.load('r18_final');"
   ]
  },
  {
   "cell_type": "code",
   "execution_count": 17,
   "metadata": {},
   "outputs": [],
   "source": [
    "learn.unfreeze()"
   ]
  },
  {
   "cell_type": "code",
   "execution_count": 18,
   "metadata": {},
   "outputs": [
    {
     "data": {
      "text/html": [
       "Total time: 33:34 <p><table style='width:375px; margin-bottom:10px'>\n",
       "  <tr>\n",
       "    <th>epoch</th>\n",
       "    <th>train_loss</th>\n",
       "    <th>valid_loss</th>\n",
       "    <th>accuracy_thresh</th>\n",
       "    <th>f1</th>\n",
       "  </tr>\n",
       "  <tr>\n",
       "    <th>1</th>\n",
       "    <th>0.892324</th>\n",
       "    <th>0.951429</th>\n",
       "    <th>0.954802</th>\n",
       "    <th>0.288289</th>\n",
       "  </tr>\n",
       "  <tr>\n",
       "    <th>2</th>\n",
       "    <th>0.825756</th>\n",
       "    <th>0.784891</th>\n",
       "    <th>0.965273</th>\n",
       "    <th>0.271181</th>\n",
       "  </tr>\n",
       "  <tr>\n",
       "    <th>3</th>\n",
       "    <th>0.736576</th>\n",
       "    <th>0.819554</th>\n",
       "    <th>0.961901</th>\n",
       "    <th>0.383787</th>\n",
       "  </tr>\n",
       "  <tr>\n",
       "    <th>4</th>\n",
       "    <th>0.665784</th>\n",
       "    <th>0.689692</th>\n",
       "    <th>0.967959</th>\n",
       "    <th>0.448127</th>\n",
       "  </tr>\n",
       "  <tr>\n",
       "    <th>5</th>\n",
       "    <th>0.586907</th>\n",
       "    <th>0.553876</th>\n",
       "    <th>0.973863</th>\n",
       "    <th>0.551185</th>\n",
       "  </tr>\n",
       "  <tr>\n",
       "    <th>6</th>\n",
       "    <th>0.559643</th>\n",
       "    <th>0.533358</th>\n",
       "    <th>0.974785</th>\n",
       "    <th>0.561317</th>\n",
       "  </tr>\n",
       "</table>\n"
      ],
      "text/plain": [
       "<IPython.core.display.HTML object>"
      ]
     },
     "metadata": {},
     "output_type": "display_data"
    },
    {
     "data": {
      "image/png": "[encoded data removed]",
      "text/plain": [
       "<Figure size 432x288 with 1 Axes>"
      ]
     },
     "metadata": {},
     "output_type": "display_data"
    },
    {
     "name": "stdout",
     "output_type": "stream",
     "text": [
      "CPU times: user 11min 36s, sys: 4min 48s, total: 16min 25s\n",
      "Wall time: 33min 34s\n"
     ]
    }
   ],
   "source": [
    "%time learn.fit_one_cycle(6, slice(lr/10, lr/3))"
   ]
  },
  {
   "cell_type": "code",
   "execution_count": 19,
   "metadata": {},
   "outputs": [],
   "source": [
    "learn.save('r18_final');"
   ]
  },
  {
   "cell_type": "code",
   "execution_count": 20,
   "metadata": {},
   "outputs": [],
   "source": [
    "learn.data.test_dl.add_tfm(to_half)\n",
    "p,t = learn.get_preds(ds_type=DatasetType.Test)"
   ]
  },
  {
   "cell_type": "markdown",
   "metadata": {},
   "source": [
    "# 512"
   ]
  },
  {
   "cell_type": "code",
   "execution_count": 21,
   "metadata": {},
   "outputs": [],
   "source": [
    "data = get_data(512, 48, 0.01, sample=None)"
   ]
  },
  {
   "cell_type": "code",
   "execution_count": 22,
   "metadata": {},
   "outputs": [],
   "source": [
    "learn = get_learner(data, focal=True, fp16=True)"
   ]
  },
  {
   "cell_type": "code",
   "execution_count": 23,
   "metadata": {},
   "outputs": [],
   "source": [
    "state_dict = torch.load('models/r18_512_u.pth')"
   ]
  },
  {
   "cell_type": "code",
   "execution_count": 24,
   "metadata": {},
   "outputs": [],
   "source": [
    "new_state_dict = OrderedDict()"
   ]
  },
  {
   "cell_type": "code",
   "execution_count": null,
   "metadata": {},
   "outputs": [],
   "source": [
    "for k, v in state_dict['model'].items():\n",
    "#     print(k)\n",
    "    name = k[7:] # remove `module.`\n",
    "#     print(name)\n",
    "    new_state_dict[name] = v"
   ]
  },
  {
   "cell_type": "code",
   "execution_count": null,
   "metadata": {},
   "outputs": [],
   "source": [
    "learn.model.load_state_dict(new_state_dict)"
   ]
  },
  {
   "cell_type": "code",
   "execution_count": null,
   "metadata": {},
   "outputs": [],
   "source": [
    "learn.freeze()"
   ]
  },
  {
   "cell_type": "code",
   "execution_count": null,
   "metadata": {},
   "outputs": [
    {
     "data": {
      "text/html": [
       "\n",
       "    <div>\n",
       "        <style>\n",
       "            /* Turns off some styling */\n",
       "            progress {\n",
       "                /* gets rid of default border in Firefox and Opera. */\n",
       "                border: none;\n",
       "                /* Needs to be in here for Safari polyfill so background images work as expected. */\n",
       "                background-size: auto;\n",
       "            }\n",
       "            .progress-bar-interrupted, .progress-bar-interrupted::-webkit-progress-bar {\n",
       "                background: #F44336;\n",
       "            }\n",
       "        </style>\n",
       "      <progress value='0' class='' max='6', style='width:300px; height:20px; vertical-align: middle;'></progress>\n",
       "      0.00% [0/6 00:00<00:00]\n",
       "    </div>\n",
       "    \n",
       "<table style='width:375px; margin-bottom:10px'>\n",
       "  <tr>\n",
       "    <th>epoch</th>\n",
       "    <th>train_loss</th>\n",
       "    <th>valid_loss</th>\n",
       "    <th>accuracy_thresh</th>\n",
       "    <th>f1</th>\n",
       "  </tr>\n",
       "</table>\n",
       "\n",
       "\n",
       "    <div>\n",
       "        <style>\n",
       "            /* Turns off some styling */\n",
       "            progress {\n",
       "                /* gets rid of default border in Firefox and Opera. */\n",
       "                border: none;\n",
       "                /* Needs to be in here for Safari polyfill so background images work as expected. */\n",
       "                background-size: auto;\n",
       "            }\n",
       "            .progress-bar-interrupted, .progress-bar-interrupted::-webkit-progress-bar {\n",
       "                background: #F44336;\n",
       "            }\n",
       "        </style>\n",
       "      <progress value='1784' class='' max='2143', style='width:300px; height:20px; vertical-align: middle;'></progress>\n",
       "      83.25% [1784/2143 20:54<04:12 0.4567]\n",
       "    </div>\n",
       "    "
      ],
      "text/plain": [
       "<IPython.core.display.HTML object>"
      ]
     },
     "metadata": {},
     "output_type": "display_data"
    }
   ],
   "source": [
    "%time learn.fit_one_cycle(6, slice(1e-3/3))"
   ]
  },
  {
   "cell_type": "code",
   "execution_count": null,
   "metadata": {},
   "outputs": [],
   "source": [
    "learn.save('r18_512_brian')"
   ]
  },
  {
   "cell_type": "code",
   "execution_count": 17,
   "metadata": {},
   "outputs": [
    {
     "ename": "RuntimeError",
     "evalue": "Error(s) in loading state_dict for Sequential:\n\tMissing key(s) in state_dict: \"0.0.weight\", \"0.1.weight\", \"0.1.bias\", \"0.1.running_mean\", \"0.1.running_var\", \"0.4.0.conv1.weight\", \"0.4.0.bn1.weight\", \"0.4.0.bn1.bias\", \"0.4.0.bn1.running_mean\", \"0.4.0.bn1.running_var\", \"0.4.0.conv2.weight\", \"0.4.0.bn2.weight\", \"0.4.0.bn2.bias\", \"0.4.0.bn2.running_mean\", \"0.4.0.bn2.running_var\", \"0.4.1.conv1.weight\", \"0.4.1.bn1.weight\", \"0.4.1.bn1.bias\", \"0.4.1.bn1.running_mean\", \"0.4.1.bn1.running_var\", \"0.4.1.conv2.weight\", \"0.4.1.bn2.weight\", \"0.4.1.bn2.bias\", \"0.4.1.bn2.running_mean\", \"0.4.1.bn2.running_var\", \"0.5.0.conv1.weight\", \"0.5.0.bn1.weight\", \"0.5.0.bn1.bias\", \"0.5.0.bn1.running_mean\", \"0.5.0.bn1.running_var\", \"0.5.0.conv2.weight\", \"0.5.0.bn2.weight\", \"0.5.0.bn2.bias\", \"0.5.0.bn2.running_mean\", \"0.5.0.bn2.running_var\", \"0.5.0.downsample.0.weight\", \"0.5.0.downsample.1.weight\", \"0.5.0.downsample.1.bias\", \"0.5.0.downsample.1.running_mean\", \"0.5.0.downsample.1.running_var\", \"0.5.1.conv1.weight\", \"0.5.1.bn1.weight\", \"0.5.1.bn1.bias\", \"0.5.1.bn1.running_mean\", \"0.5.1.bn1.running_var\", \"0.5.1.conv2.weight\", \"0.5.1.bn2.weight\", \"0.5.1.bn2.bias\", \"0.5.1.bn2.running_mean\", \"0.5.1.bn2.running_var\", \"0.6.0.conv1.weight\", \"0.6.0.bn1.weight\", \"0.6.0.bn1.bias\", \"0.6.0.bn1.running_mean\", \"0.6.0.bn1.running_var\", \"0.6.0.conv2.weight\", \"0.6.0.bn2.weight\", \"0.6.0.bn2.bias\", \"0.6.0.bn2.running_mean\", \"0.6.0.bn2.running_var\", \"0.6.0.downsample.0.weight\", \"0.6.0.downsample.1.weight\", \"0.6.0.downsample.1.bias\", \"0.6.0.downsample.1.running_mean\", \"0.6.0.downsample.1.running_var\", \"0.6.1.conv1.weight\", \"0.6.1.bn1.weight\", \"0.6.1.bn1.bias\", \"0.6.1.bn1.running_mean\", \"0.6.1.bn1.running_var\", \"0.6.1.conv2.weight\", \"0.6.1.bn2.weight\", \"0.6.1.bn2.bias\", \"0.6.1.bn2.running_mean\", \"0.6.1.bn2.running_var\", \"0.7.0.conv1.weight\", \"0.7.0.bn1.weight\", \"0.7.0.bn1.bias\", \"0.7.0.bn1.running_mean\", \"0.7.0.bn1.running_var\", \"0.7.0.conv2.weight\", \"0.7.0.bn2.weight\", \"0.7.0.bn2.bias\", \"0.7.0.bn2.running_mean\", \"0.7.0.bn2.running_var\", \"0.7.0.downsample.0.weight\", \"0.7.0.downsample.1.weight\", \"0.7.0.downsample.1.bias\", \"0.7.0.downsample.1.running_mean\", \"0.7.0.downsample.1.running_var\", \"0.7.1.conv1.weight\", \"0.7.1.bn1.weight\", \"0.7.1.bn1.bias\", \"0.7.1.bn1.running_mean\", \"0.7.1.bn1.running_var\", \"0.7.1.conv2.weight\", \"0.7.1.bn2.weight\", \"0.7.1.bn2.bias\", \"0.7.1.bn2.running_mean\", \"0.7.1.bn2.running_var\", \"1.2.weight\", \"1.2.bias\", \"1.2.running_mean\", \"1.2.running_var\", \"1.4.weight\", \"1.4.bias\", \"1.6.weight\", \"1.6.bias\", \"1.6.running_mean\", \"1.6.running_var\", \"1.8.weight\", \"1.8.bias\". \n\tUnexpected key(s) in state_dict: \"module.0.0.weight\", \"module.0.1.weight\", \"module.0.1.bias\", \"module.0.1.running_mean\", \"module.0.1.running_var\", \"module.0.1.num_batches_tracked\", \"module.0.4.0.conv1.weight\", \"module.0.4.0.bn1.weight\", \"module.0.4.0.bn1.bias\", \"module.0.4.0.bn1.running_mean\", \"module.0.4.0.bn1.running_var\", \"module.0.4.0.bn1.num_batches_tracked\", \"module.0.4.0.conv2.weight\", \"module.0.4.0.bn2.weight\", \"module.0.4.0.bn2.bias\", \"module.0.4.0.bn2.running_mean\", \"module.0.4.0.bn2.running_var\", \"module.0.4.0.bn2.num_batches_tracked\", \"module.0.4.1.conv1.weight\", \"module.0.4.1.bn1.weight\", \"module.0.4.1.bn1.bias\", \"module.0.4.1.bn1.running_mean\", \"module.0.4.1.bn1.running_var\", \"module.0.4.1.bn1.num_batches_tracked\", \"module.0.4.1.conv2.weight\", \"module.0.4.1.bn2.weight\", \"module.0.4.1.bn2.bias\", \"module.0.4.1.bn2.running_mean\", \"module.0.4.1.bn2.running_var\", \"module.0.4.1.bn2.num_batches_tracked\", \"module.0.5.0.conv1.weight\", \"module.0.5.0.bn1.weight\", \"module.0.5.0.bn1.bias\", \"module.0.5.0.bn1.running_mean\", \"module.0.5.0.bn1.running_var\", \"module.0.5.0.bn1.num_batches_tracked\", \"module.0.5.0.conv2.weight\", \"module.0.5.0.bn2.weight\", \"module.0.5.0.bn2.bias\", \"module.0.5.0.bn2.running_mean\", \"module.0.5.0.bn2.running_var\", \"module.0.5.0.bn2.num_batches_tracked\", \"module.0.5.0.downsample.0.weight\", \"module.0.5.0.downsample.1.weight\", \"module.0.5.0.downsample.1.bias\", \"module.0.5.0.downsample.1.running_mean\", \"module.0.5.0.downsample.1.running_var\", \"module.0.5.0.downsample.1.num_batches_tracked\", \"module.0.5.1.conv1.weight\", \"module.0.5.1.bn1.weight\", \"module.0.5.1.bn1.bias\", \"module.0.5.1.bn1.running_mean\", \"module.0.5.1.bn1.running_var\", \"module.0.5.1.bn1.num_batches_tracked\", \"module.0.5.1.conv2.weight\", \"module.0.5.1.bn2.weight\", \"module.0.5.1.bn2.bias\", \"module.0.5.1.bn2.running_mean\", \"module.0.5.1.bn2.running_var\", \"module.0.5.1.bn2.num_batches_tracked\", \"module.0.6.0.conv1.weight\", \"module.0.6.0.bn1.weight\", \"module.0.6.0.bn1.bias\", \"module.0.6.0.bn1.running_mean\", \"module.0.6.0.bn1.running_var\", \"module.0.6.0.bn1.num_batches_tracked\", \"module.0.6.0.conv2.weight\", \"module.0.6.0.bn2.weight\", \"module.0.6.0.bn2.bias\", \"module.0.6.0.bn2.running_mean\", \"module.0.6.0.bn2.running_var\", \"module.0.6.0.bn2.num_batches_tracked\", \"module.0.6.0.downsample.0.weight\", \"module.0.6.0.downsample.1.weight\", \"module.0.6.0.downsample.1.bias\", \"module.0.6.0.downsample.1.running_mean\", \"module.0.6.0.downsample.1.running_var\", \"module.0.6.0.downsample.1.num_batches_tracked\", \"module.0.6.1.conv1.weight\", \"module.0.6.1.bn1.weight\", \"module.0.6.1.bn1.bias\", \"module.0.6.1.bn1.running_mean\", \"module.0.6.1.bn1.running_var\", \"module.0.6.1.bn1.num_batches_tracked\", \"module.0.6.1.conv2.weight\", \"module.0.6.1.bn2.weight\", \"module.0.6.1.bn2.bias\", \"module.0.6.1.bn2.running_mean\", \"module.0.6.1.bn2.running_var\", \"module.0.6.1.bn2.num_batches_tracked\", \"module.0.7.0.conv1.weight\", \"module.0.7.0.bn1.weight\", \"module.0.7.0.bn1.bias\", \"module.0.7.0.bn1.running_mean\", \"module.0.7.0.bn1.running_var\", \"module.0.7.0.bn1.num_batches_tracked\", \"module.0.7.0.conv2.weight\", \"module.0.7.0.bn2.weight\", \"module.0.7.0.bn2.bias\", \"module.0.7.0.bn2.running_mean\", \"module.0.7.0.bn2.running_var\", \"module.0.7.0.bn2.num_batches_tracked\", \"module.0.7.0.downsample.0.weight\", \"module.0.7.0.downsample.1.weight\", \"module.0.7.0.downsample.1.bias\", \"module.0.7.0.downsample.1.running_mean\", \"module.0.7.0.downsample.1.running_var\", \"module.0.7.0.downsample.1.num_batches_tracked\", \"module.0.7.1.conv1.weight\", \"module.0.7.1.bn1.weight\", \"module.0.7.1.bn1.bias\", \"module.0.7.1.bn1.running_mean\", \"module.0.7.1.bn1.running_var\", \"module.0.7.1.bn1.num_batches_tracked\", \"module.0.7.1.conv2.weight\", \"module.0.7.1.bn2.weight\", \"module.0.7.1.bn2.bias\", \"module.0.7.1.bn2.running_mean\", \"module.0.7.1.bn2.running_var\", \"module.0.7.1.bn2.num_batches_tracked\", \"module.1.2.weight\", \"module.1.2.bias\", \"module.1.2.running_mean\", \"module.1.2.running_var\", \"module.1.2.num_batches_tracked\", \"module.1.4.weight\", \"module.1.4.bias\", \"module.1.6.weight\", \"module.1.6.bias\", \"module.1.6.running_mean\", \"module.1.6.running_var\", \"module.1.6.num_batches_tracked\", \"module.1.8.weight\", \"module.1.8.bias\". ",
     "output_type": "error",
     "traceback": [
      "\u001b[0;31m---------------------------------------------------------------------------\u001b[0m",
      "\u001b[0;31mRuntimeError\u001b[0m                              Traceback (most recent call last)",
      "\u001b[0;32m<ipython-input-17-5799f3e2a312>\u001b[0m in \u001b[0;36m<module>\u001b[0;34m\u001b[0m\n\u001b[0;32m----> 1\u001b[0;31m \u001b[0mlearn\u001b[0m\u001b[0;34m.\u001b[0m\u001b[0mload\u001b[0m\u001b[0;34m(\u001b[0m\u001b[0;34m'r18_512_u'\u001b[0m\u001b[0;34m)\u001b[0m\u001b[0;34m;\u001b[0m\u001b[0;34m\u001b[0m\u001b[0;34m\u001b[0m\u001b[0m\n\u001b[0m",
      "\u001b[0;32m/opt/anaconda3/lib/python3.7/site-packages/fastai/basic_train.py\u001b[0m in \u001b[0;36mload\u001b[0;34m(self, name, device, strict, with_opt)\u001b[0m\n\u001b[1;32m    217\u001b[0m         \u001b[0mstate\u001b[0m \u001b[0;34m=\u001b[0m \u001b[0mtorch\u001b[0m\u001b[0;34m.\u001b[0m\u001b[0mload\u001b[0m\u001b[0;34m(\u001b[0m\u001b[0mself\u001b[0m\u001b[0;34m.\u001b[0m\u001b[0mpath\u001b[0m\u001b[0;34m/\u001b[0m\u001b[0mself\u001b[0m\u001b[0;34m.\u001b[0m\u001b[0mmodel_dir\u001b[0m\u001b[0;34m/\u001b[0m\u001b[0;34mf'{name}.pth'\u001b[0m\u001b[0;34m,\u001b[0m \u001b[0mmap_location\u001b[0m\u001b[0;34m=\u001b[0m\u001b[0mdevice\u001b[0m\u001b[0;34m)\u001b[0m\u001b[0;34m\u001b[0m\u001b[0;34m\u001b[0m\u001b[0m\n\u001b[1;32m    218\u001b[0m         \u001b[0;32mif\u001b[0m \u001b[0mset\u001b[0m\u001b[0;34m(\u001b[0m\u001b[0mstate\u001b[0m\u001b[0;34m.\u001b[0m\u001b[0mkeys\u001b[0m\u001b[0;34m(\u001b[0m\u001b[0;34m)\u001b[0m\u001b[0;34m)\u001b[0m \u001b[0;34m==\u001b[0m \u001b[0;34m{\u001b[0m\u001b[0;34m'model'\u001b[0m\u001b[0;34m,\u001b[0m \u001b[0;34m'opt'\u001b[0m\u001b[0;34m}\u001b[0m\u001b[0;34m:\u001b[0m\u001b[0;34m\u001b[0m\u001b[0;34m\u001b[0m\u001b[0m\n\u001b[0;32m--> 219\u001b[0;31m             \u001b[0mget_model\u001b[0m\u001b[0;34m(\u001b[0m\u001b[0mself\u001b[0m\u001b[0;34m.\u001b[0m\u001b[0mmodel\u001b[0m\u001b[0;34m)\u001b[0m\u001b[0;34m.\u001b[0m\u001b[0mload_state_dict\u001b[0m\u001b[0;34m(\u001b[0m\u001b[0mstate\u001b[0m\u001b[0;34m[\u001b[0m\u001b[0;34m'model'\u001b[0m\u001b[0;34m]\u001b[0m\u001b[0;34m,\u001b[0m \u001b[0mstrict\u001b[0m\u001b[0;34m=\u001b[0m\u001b[0mstrict\u001b[0m\u001b[0;34m)\u001b[0m\u001b[0;34m\u001b[0m\u001b[0;34m\u001b[0m\u001b[0m\n\u001b[0m\u001b[1;32m    220\u001b[0m             \u001b[0;32mif\u001b[0m \u001b[0mifnone\u001b[0m\u001b[0;34m(\u001b[0m\u001b[0mwith_opt\u001b[0m\u001b[0;34m,\u001b[0m\u001b[0;32mTrue\u001b[0m\u001b[0;34m)\u001b[0m\u001b[0;34m:\u001b[0m\u001b[0;34m\u001b[0m\u001b[0;34m\u001b[0m\u001b[0m\n\u001b[1;32m    221\u001b[0m                 \u001b[0;32mif\u001b[0m \u001b[0;32mnot\u001b[0m \u001b[0mhasattr\u001b[0m\u001b[0;34m(\u001b[0m\u001b[0mself\u001b[0m\u001b[0;34m,\u001b[0m \u001b[0;34m'opt'\u001b[0m\u001b[0;34m)\u001b[0m\u001b[0;34m:\u001b[0m \u001b[0mopt\u001b[0m \u001b[0;34m=\u001b[0m \u001b[0mself\u001b[0m\u001b[0;34m.\u001b[0m\u001b[0mcreate_opt\u001b[0m\u001b[0;34m(\u001b[0m\u001b[0mdefaults\u001b[0m\u001b[0;34m.\u001b[0m\u001b[0mlr\u001b[0m\u001b[0;34m,\u001b[0m \u001b[0mself\u001b[0m\u001b[0;34m.\u001b[0m\u001b[0mwd\u001b[0m\u001b[0;34m)\u001b[0m\u001b[0;34m\u001b[0m\u001b[0;34m\u001b[0m\u001b[0m\n",
      "\u001b[0;32m/opt/anaconda3/lib/python3.7/site-packages/torch/nn/modules/module.py\u001b[0m in \u001b[0;36mload_state_dict\u001b[0;34m(self, state_dict, strict)\u001b[0m\n\u001b[1;32m    767\u001b[0m         \u001b[0;32mif\u001b[0m \u001b[0mlen\u001b[0m\u001b[0;34m(\u001b[0m\u001b[0merror_msgs\u001b[0m\u001b[0;34m)\u001b[0m \u001b[0;34m>\u001b[0m \u001b[0;36m0\u001b[0m\u001b[0;34m:\u001b[0m\u001b[0;34m\u001b[0m\u001b[0;34m\u001b[0m\u001b[0m\n\u001b[1;32m    768\u001b[0m             raise RuntimeError('Error(s) in loading state_dict for {}:\\n\\t{}'.format(\n\u001b[0;32m--> 769\u001b[0;31m                                self.__class__.__name__, \"\\n\\t\".join(error_msgs)))\n\u001b[0m\u001b[1;32m    770\u001b[0m \u001b[0;34m\u001b[0m\u001b[0m\n\u001b[1;32m    771\u001b[0m     \u001b[0;32mdef\u001b[0m \u001b[0m_named_members\u001b[0m\u001b[0;34m(\u001b[0m\u001b[0mself\u001b[0m\u001b[0;34m,\u001b[0m \u001b[0mget_members_fn\u001b[0m\u001b[0;34m,\u001b[0m \u001b[0mprefix\u001b[0m\u001b[0;34m=\u001b[0m\u001b[0;34m''\u001b[0m\u001b[0;34m,\u001b[0m \u001b[0mrecurse\u001b[0m\u001b[0;34m=\u001b[0m\u001b[0;32mTrue\u001b[0m\u001b[0;34m)\u001b[0m\u001b[0;34m:\u001b[0m\u001b[0;34m\u001b[0m\u001b[0;34m\u001b[0m\u001b[0m\n",
      "\u001b[0;31mRuntimeError\u001b[0m: Error(s) in loading state_dict for Sequential:\n\tMissing key(s) in state_dict: \"0.0.weight\", \"0.1.weight\", \"0.1.bias\", \"0.1.running_mean\", \"0.1.running_var\", \"0.4.0.conv1.weight\", \"0.4.0.bn1.weight\", \"0.4.0.bn1.bias\", \"0.4.0.bn1.running_mean\", \"0.4.0.bn1.running_var\", \"0.4.0.conv2.weight\", \"0.4.0.bn2.weight\", \"0.4.0.bn2.bias\", \"0.4.0.bn2.running_mean\", \"0.4.0.bn2.running_var\", \"0.4.1.conv1.weight\", \"0.4.1.bn1.weight\", \"0.4.1.bn1.bias\", \"0.4.1.bn1.running_mean\", \"0.4.1.bn1.running_var\", \"0.4.1.conv2.weight\", \"0.4.1.bn2.weight\", \"0.4.1.bn2.bias\", \"0.4.1.bn2.running_mean\", \"0.4.1.bn2.running_var\", \"0.5.0.conv1.weight\", \"0.5.0.bn1.weight\", \"0.5.0.bn1.bias\", \"0.5.0.bn1.running_mean\", \"0.5.0.bn1.running_var\", \"0.5.0.conv2.weight\", \"0.5.0.bn2.weight\", \"0.5.0.bn2.bias\", \"0.5.0.bn2.running_mean\", \"0.5.0.bn2.running_var\", \"0.5.0.downsample.0.weight\", \"0.5.0.downsample.1.weight\", \"0.5.0.downsample.1.bias\", \"0.5.0.downsample.1.running_mean\", \"0.5.0.downsample.1.running_var\", \"0.5.1.conv1.weight\", \"0.5.1.bn1.weight\", \"0.5.1.bn1.bias\", \"0.5.1.bn1.running_mean\", \"0.5.1.bn1.running_var\", \"0.5.1.conv2.weight\", \"0.5.1.bn2.weight\", \"0.5.1.bn2.bias\", \"0.5.1.bn2.running_mean\", \"0.5.1.bn2.running_var\", \"0.6.0.conv1.weight\", \"0.6.0.bn1.weight\", \"0.6.0.bn1.bias\", \"0.6.0.bn1.running_mean\", \"0.6.0.bn1.running_var\", \"0.6.0.conv2.weight\", \"0.6.0.bn2.weight\", \"0.6.0.bn2.bias\", \"0.6.0.bn2.running_mean\", \"0.6.0.bn2.running_var\", \"0.6.0.downsample.0.weight\", \"0.6.0.downsample.1.weight\", \"0.6.0.downsample.1.bias\", \"0.6.0.downsample.1.running_mean\", \"0.6.0.downsample.1.running_var\", \"0.6.1.conv1.weight\", \"0.6.1.bn1.weight\", \"0.6.1.bn1.bias\", \"0.6.1.bn1.running_mean\", \"0.6.1.bn1.running_var\", \"0.6.1.conv2.weight\", \"0.6.1.bn2.weight\", \"0.6.1.bn2.bias\", \"0.6.1.bn2.running_mean\", \"0.6.1.bn2.running_var\", \"0.7.0.conv1.weight\", \"0.7.0.bn1.weight\", \"0.7.0.bn1.bias\", \"0.7.0.bn1.running_mean\", \"0.7.0.bn1.running_var\", \"0.7.0.conv2.weight\", \"0.7.0.bn2.weight\", \"0.7.0.bn2.bias\", \"0.7.0.bn2.running_mean\", \"0.7.0.bn2.running_var\", \"0.7.0.downsample.0.weight\", \"0.7.0.downsample.1.weight\", \"0.7.0.downsample.1.bias\", \"0.7.0.downsample.1.running_mean\", \"0.7.0.downsample.1.running_var\", \"0.7.1.conv1.weight\", \"0.7.1.bn1.weight\", \"0.7.1.bn1.bias\", \"0.7.1.bn1.running_mean\", \"0.7.1.bn1.running_var\", \"0.7.1.conv2.weight\", \"0.7.1.bn2.weight\", \"0.7.1.bn2.bias\", \"0.7.1.bn2.running_mean\", \"0.7.1.bn2.running_var\", \"1.2.weight\", \"1.2.bias\", \"1.2.running_mean\", \"1.2.running_var\", \"1.4.weight\", \"1.4.bias\", \"1.6.weight\", \"1.6.bias\", \"1.6.running_mean\", \"1.6.running_var\", \"1.8.weight\", \"1.8.bias\". \n\tUnexpected key(s) in state_dict: \"module.0.0.weight\", \"module.0.1.weight\", \"module.0.1.bias\", \"module.0.1.running_mean\", \"module.0.1.running_var\", \"module.0.1.num_batches_tracked\", \"module.0.4.0.conv1.weight\", \"module.0.4.0.bn1.weight\", \"module.0.4.0.bn1.bias\", \"module.0.4.0.bn1.running_mean\", \"module.0.4.0.bn1.running_var\", \"module.0.4.0.bn1.num_batches_tracked\", \"module.0.4.0.conv2.weight\", \"module.0.4.0.bn2.weight\", \"module.0.4.0.bn2.bias\", \"module.0.4.0.bn2.running_mean\", \"module.0.4.0.bn2.running_var\", \"module.0.4.0.bn2.num_batches_tracked\", \"module.0.4.1.conv1.weight\", \"module.0.4.1.bn1.weight\", \"module.0.4.1.bn1.bias\", \"module.0.4.1.bn1.running_mean\", \"module.0.4.1.bn1.running_var\", \"module.0.4.1.bn1.num_batches_tracked\", \"module.0.4.1.conv2.weight\", \"module.0.4.1.bn2.weight\", \"module.0.4.1.bn2.bias\", \"module.0.4.1.bn2.running_mean\", \"module.0.4.1.bn2.running_var\", \"module.0.4.1.bn2.num_batches_tracked\", \"module.0.5.0.conv1.weight\", \"module.0.5.0.bn1.weight\", \"module.0.5.0.bn1.bias\", \"module.0.5.0.bn1.running_mean\", \"module.0.5.0.bn1.running_var\", \"module.0.5.0.bn1.num_batches_tracked\", \"module.0.5.0.conv2.weight\", \"module.0.5.0.bn2.weight\", \"module.0.5.0.bn2.bias\", \"module.0.5.0.bn2.running_mean\", \"module.0.5.0.bn2.running_var\", \"module.0.5.0.bn2.num_batches_tracked\", \"module.0.5.0.downsample.0.weight\", \"module.0.5.0.downsample.1.weight\", \"module.0.5.0.downsample.1.bias\", \"module.0.5.0.downsample.1.running_mean\", \"module.0.5.0.downsample.1.running_var\", \"module.0.5.0.downsample.1.num_batches_tracked\", \"module.0.5.1.conv1.weight\", \"module.0.5.1.bn1.weight\", \"module.0.5.1.bn1.bias\", \"module.0.5.1.bn1.running_mean\", \"module.0.5.1.bn1.running_var\", \"module.0.5.1.bn1.num_batches_tracked\", \"module.0.5.1.conv2.weight\", \"module.0.5.1.bn2.weight\", \"module.0.5.1.bn2.bias\", \"module.0.5.1.bn2.running_mean\", \"module.0.5.1.bn2.running_var\", \"module.0.5.1.bn2.num_batches_tracked\", \"module.0.6.0.conv1.weight\", \"module.0.6.0.bn1.weight\", \"module.0.6.0.bn1.bias\", \"module.0.6.0.bn1.running_mean\", \"module.0.6.0.bn1.running_var\", \"module.0.6.0.bn1.num_batches_tracked\", \"module.0.6.0.conv2.weight\", \"module.0.6.0.bn2.weight\", \"module.0.6.0.bn2.bias\", \"module.0.6.0.bn2.running_mean\", \"module.0.6.0.bn2.running_var\", \"module.0.6.0.bn2.num_batches_tracked\", \"module.0.6.0.downsample.0.weight\", \"module.0.6.0.downsample.1.weight\", \"module.0.6.0.downsample.1.bias\", \"module.0.6.0.downsample.1.running_mean\", \"module.0.6.0.downsample.1.running_var\", \"module.0.6.0.downsample.1.num_batches_tracked\", \"module.0.6.1.conv1.weight\", \"module.0.6.1.bn1.weight\", \"module.0.6.1.bn1.bias\", \"module.0.6.1.bn1.running_mean\", \"module.0.6.1.bn1.running_var\", \"module.0.6.1.bn1.num_batches_tracked\", \"module.0.6.1.conv2.weight\", \"module.0.6.1.bn2.weight\", \"module.0.6.1.bn2.bias\", \"module.0.6.1.bn2.running_mean\", \"module.0.6.1.bn2.running_var\", \"module.0.6.1.bn2.num_batches_tracked\", \"module.0.7.0.conv1.weight\", \"module.0.7.0.bn1.weight\", \"module.0.7.0.bn1.bias\", \"module.0.7.0.bn1.running_mean\", \"module.0.7.0.bn1.running_var\", \"module.0.7.0.bn1.num_batches_tracked\", \"module.0.7.0.conv2.weight\", \"module.0.7.0.bn2.weight\", \"module.0.7.0.bn2.bias\", \"module.0.7.0.bn2.running_mean\", \"module.0.7.0.bn2.running_var\", \"module.0.7.0.bn2.num_batches_tracked\", \"module.0.7.0.downsample.0.weight\", \"module.0.7.0.downsample.1.weight\", \"module.0.7.0.downsample.1.bias\", \"module.0.7.0.downsample.1.running_mean\", \"module.0.7.0.downsample.1.running_var\", \"module.0.7.0.downsample.1.num_batches_tracked\", \"module.0.7.1.conv1.weight\", \"module.0.7.1.bn1.weight\", \"module.0.7.1.bn1.bias\", \"module.0.7.1.bn1.running_mean\", \"module.0.7.1.bn1.running_var\", \"module.0.7.1.bn1.num_batches_tracked\", \"module.0.7.1.conv2.weight\", \"module.0.7.1.bn2.weight\", \"module.0.7.1.bn2.bias\", \"module.0.7.1.bn2.running_mean\", \"module.0.7.1.bn2.running_var\", \"module.0.7.1.bn2.num_batches_tracked\", \"module.1.2.weight\", \"module.1.2.bias\", \"module.1.2.running_mean\", \"module.1.2.running_var\", \"module.1.2.num_batches_tracked\", \"module.1.4.weight\", \"module.1.4.bias\", \"module.1.6.weight\", \"module.1.6.bias\", \"module.1.6.running_mean\", \"module.1.6.running_var\", \"module.1.6.num_batches_tracked\", \"module.1.8.weight\", \"module.1.8.bias\". "
     ]
    }
   ],
   "source": [
    "learn.load('r18_512_brian');"
   ]
  },
  {
   "cell_type": "code",
   "execution_count": 41,
   "metadata": {},
   "outputs": [],
   "source": [
    "learn.unfreeze()"
   ]
  },
  {
   "cell_type": "code",
   "execution_count": 43,
   "metadata": {},
   "outputs": [
    {
     "data": {
      "text/html": [
       "Total time: 1:30:36 <p><table style='width:375px; margin-bottom:10px'>\n",
       "  <tr>\n",
       "    <th>epoch</th>\n",
       "    <th>train_loss</th>\n",
       "    <th>valid_loss</th>\n",
       "    <th>accuracy_thresh</th>\n",
       "    <th>f1</th>\n",
       "  </tr>\n",
       "  <tr>\n",
       "    <th>1</th>\n",
       "    <th>0.451887</th>\n",
       "    <th>0.442356</th>\n",
       "    <th>0.977872</th>\n",
       "    <th>0.583456</th>\n",
       "  </tr>\n",
       "  <tr>\n",
       "    <th>2</th>\n",
       "    <th>0.443484</th>\n",
       "    <th>0.455116</th>\n",
       "    <th>0.977656</th>\n",
       "    <th>0.578151</th>\n",
       "  </tr>\n",
       "  <tr>\n",
       "    <th>3</th>\n",
       "    <th>0.430340</th>\n",
       "    <th>0.442760</th>\n",
       "    <th>0.977980</th>\n",
       "    <th>0.581266</th>\n",
       "  </tr>\n",
       "  <tr>\n",
       "    <th>4</th>\n",
       "    <th>0.422429</th>\n",
       "    <th>0.425873</th>\n",
       "    <th>0.978377</th>\n",
       "    <th>0.585442</th>\n",
       "  </tr>\n",
       "  <tr>\n",
       "    <th>5</th>\n",
       "    <th>0.410050</th>\n",
       "    <th>0.432678</th>\n",
       "    <th>0.978665</th>\n",
       "    <th>0.593176</th>\n",
       "  </tr>\n",
       "  <tr>\n",
       "    <th>6</th>\n",
       "    <th>0.416037</th>\n",
       "    <th>0.432628</th>\n",
       "    <th>0.978485</th>\n",
       "    <th>0.592661</th>\n",
       "  </tr>\n",
       "</table>\n"
      ],
      "text/plain": [
       "<IPython.core.display.HTML object>"
      ]
     },
     "metadata": {},
     "output_type": "display_data"
    },
    {
     "data": {
      "image/png": "[encoded data removed]",
      "text/plain": [
       "<Figure size 432x288 with 1 Axes>"
      ]
     },
     "metadata": {},
     "output_type": "display_data"
    },
    {
     "name": "stdout",
     "output_type": "stream",
     "text": [
      "CPU times: user 55min 55s, sys: 24min 14s, total: 1h 20min 10s\n",
      "Wall time: 1h 30min 36s\n"
     ]
    }
   ],
   "source": [
    "lr = 1e-3\n",
    "%time learn.fit_one_cycle(3, slice(lr/10, lr/5))"
   ]
  },
  {
   "cell_type": "code",
   "execution_count": 50,
   "metadata": {},
   "outputs": [
    {
     "data": {
      "text/html": [
       "Total time: 1:28:20 <p><table style='width:375px; margin-bottom:10px'>\n",
       "  <tr>\n",
       "    <th>epoch</th>\n",
       "    <th>train_loss</th>\n",
       "    <th>valid_loss</th>\n",
       "    <th>accuracy_thresh</th>\n",
       "    <th>f1</th>\n",
       "  </tr>\n",
       "  <tr>\n",
       "    <th>1</th>\n",
       "    <th>0.418651</th>\n",
       "    <th>0.435087</th>\n",
       "    <th>0.978521</th>\n",
       "    <th>0.586244</th>\n",
       "  </tr>\n",
       "  <tr>\n",
       "    <th>2</th>\n",
       "    <th>0.416768</th>\n",
       "    <th>0.448912</th>\n",
       "    <th>0.978161</th>\n",
       "    <th>0.591453</th>\n",
       "  </tr>\n",
       "  <tr>\n",
       "    <th>3</th>\n",
       "    <th>0.410480</th>\n",
       "    <th>0.447753</th>\n",
       "    <th>0.978737</th>\n",
       "    <th>0.598202</th>\n",
       "  </tr>\n",
       "  <tr>\n",
       "    <th>4</th>\n",
       "    <th>0.404506</th>\n",
       "    <th>0.430888</th>\n",
       "    <th>0.978377</th>\n",
       "    <th>0.591136</th>\n",
       "  </tr>\n",
       "  <tr>\n",
       "    <th>5</th>\n",
       "    <th>0.402465</th>\n",
       "    <th>0.433560</th>\n",
       "    <th>0.978665</th>\n",
       "    <th>0.590833</th>\n",
       "  </tr>\n",
       "  <tr>\n",
       "    <th>6</th>\n",
       "    <th>0.396238</th>\n",
       "    <th>0.431309</th>\n",
       "    <th>0.978305</th>\n",
       "    <th>0.588377</th>\n",
       "  </tr>\n",
       "</table>\n"
      ],
      "text/plain": [
       "<IPython.core.display.HTML object>"
      ]
     },
     "metadata": {},
     "output_type": "display_data"
    },
    {
     "data": {
      "image/png": "[encoded data removed]",
      "text/plain": [
       "<Figure size 432x288 with 1 Axes>"
      ]
     },
     "metadata": {},
     "output_type": "display_data"
    },
    {
     "name": "stdout",
     "output_type": "stream",
     "text": [
      "CPU times: user 57min 30s, sys: 24min 49s, total: 1h 22min 19s\n",
      "Wall time: 1h 28min 20s\n"
     ]
    }
   ],
   "source": [
    "lr = 1e-3\n",
    "%time learn.fit_one_cycle(6, slice(lr/10, lr/5))"
   ]
  },
  {
   "cell_type": "code",
   "execution_count": 51,
   "metadata": {},
   "outputs": [],
   "source": [
    "learn.save('r18_512_u')"
   ]
  },
  {
   "cell_type": "code",
   "execution_count": 65,
   "metadata": {},
   "outputs": [
    {
     "data": {
      "text/html": [
       "\n",
       "    <div>\n",
       "        <style>\n",
       "            /* Turns off some styling */\n",
       "            progress {\n",
       "                /* gets rid of default border in Firefox and Opera. */\n",
       "                border: none;\n",
       "                /* Needs to be in here for Safari polyfill so background images work as expected. */\n",
       "                background-size: auto;\n",
       "            }\n",
       "            .progress-bar-interrupted, .progress-bar-interrupted::-webkit-progress-bar {\n",
       "                background: #F44336;\n",
       "            }\n",
       "        </style>\n",
       "      <progress value='0' class='' max='8', style='width:300px; height:20px; vertical-align: middle;'></progress>\n",
       "      0.00% [0/8 00:00<00:00]\n",
       "    </div>\n",
       "    \n",
       "\n",
       "\n",
       "    <div>\n",
       "        <style>\n",
       "            /* Turns off some styling */\n",
       "            progress {\n",
       "                /* gets rid of default border in Firefox and Opera. */\n",
       "                border: none;\n",
       "                /* Needs to be in here for Safari polyfill so background images work as expected. */\n",
       "                background-size: auto;\n",
       "            }\n",
       "            .progress-bar-interrupted, .progress-bar-interrupted::-webkit-progress-bar {\n",
       "                background: #F44336;\n",
       "            }\n",
       "        </style>\n",
       "      <progress value='46' class='' max='46', style='width:300px; height:20px; vertical-align: middle;'></progress>\n",
       "      100.00% [46/46 01:34<00:00]\n",
       "    </div>\n",
       "    "
      ],
      "text/plain": [
       "<IPython.core.display.HTML object>"
      ]
     },
     "metadata": {},
     "output_type": "display_data"
    },
    {
     "ename": "RuntimeError",
     "evalue": "_th_cat is not implemented for type torch.HalfTensor",
     "output_type": "error",
     "traceback": [
      "\u001b[0;31m---------------------------------------------------------------------------\u001b[0m",
      "\u001b[0;31mRuntimeError\u001b[0m                              Traceback (most recent call last)",
      "\u001b[0;32m<ipython-input-65-016bfdf411ef>\u001b[0m in \u001b[0;36m<module>\u001b[0;34m\u001b[0m\n\u001b[0;32m----> 1\u001b[0;31m \u001b[0mres\u001b[0m \u001b[0;34m=\u001b[0m \u001b[0mlearn\u001b[0m\u001b[0;34m.\u001b[0m\u001b[0mTTA\u001b[0m\u001b[0;34m(\u001b[0m\u001b[0mds_type\u001b[0m\u001b[0;34m=\u001b[0m\u001b[0mDatasetType\u001b[0m\u001b[0;34m.\u001b[0m\u001b[0mTest\u001b[0m\u001b[0;34m)\u001b[0m\u001b[0;34m\u001b[0m\u001b[0m\n\u001b[0m",
      "\u001b[0;32m/opt/anaconda3/lib/python3.7/site-packages/fastai/vision/tta.py\u001b[0m in \u001b[0;36m_TTA\u001b[0;34m(learn, beta, scale, ds_type, with_loss)\u001b[0m\n\u001b[1;32m     33\u001b[0m     \u001b[0;34m\"Applies TTA to predict on `ds_type` dataset.\"\u001b[0m\u001b[0;34m\u001b[0m\u001b[0m\n\u001b[1;32m     34\u001b[0m     \u001b[0mpreds\u001b[0m\u001b[0;34m,\u001b[0m\u001b[0my\u001b[0m \u001b[0;34m=\u001b[0m \u001b[0mlearn\u001b[0m\u001b[0;34m.\u001b[0m\u001b[0mget_preds\u001b[0m\u001b[0;34m(\u001b[0m\u001b[0mds_type\u001b[0m\u001b[0;34m)\u001b[0m\u001b[0;34m\u001b[0m\u001b[0m\n\u001b[0;32m---> 35\u001b[0;31m     \u001b[0mall_preds\u001b[0m \u001b[0;34m=\u001b[0m \u001b[0mlist\u001b[0m\u001b[0;34m(\u001b[0m\u001b[0mlearn\u001b[0m\u001b[0;34m.\u001b[0m\u001b[0mtta_only\u001b[0m\u001b[0;34m(\u001b[0m\u001b[0mscale\u001b[0m\u001b[0;34m=\u001b[0m\u001b[0mscale\u001b[0m\u001b[0;34m,\u001b[0m \u001b[0mds_type\u001b[0m\u001b[0;34m=\u001b[0m\u001b[0mds_type\u001b[0m\u001b[0;34m)\u001b[0m\u001b[0;34m)\u001b[0m\u001b[0;34m\u001b[0m\u001b[0m\n\u001b[0m\u001b[1;32m     36\u001b[0m     \u001b[0mavg_preds\u001b[0m \u001b[0;34m=\u001b[0m \u001b[0mtorch\u001b[0m\u001b[0;34m.\u001b[0m\u001b[0mstack\u001b[0m\u001b[0;34m(\u001b[0m\u001b[0mall_preds\u001b[0m\u001b[0;34m)\u001b[0m\u001b[0;34m.\u001b[0m\u001b[0mmean\u001b[0m\u001b[0;34m(\u001b[0m\u001b[0;36m0\u001b[0m\u001b[0;34m)\u001b[0m\u001b[0;34m\u001b[0m\u001b[0m\n\u001b[1;32m     37\u001b[0m     \u001b[0;32mif\u001b[0m \u001b[0mbeta\u001b[0m \u001b[0;32mis\u001b[0m \u001b[0;32mNone\u001b[0m\u001b[0;34m:\u001b[0m \u001b[0;32mreturn\u001b[0m \u001b[0mpreds\u001b[0m\u001b[0;34m,\u001b[0m\u001b[0mavg_preds\u001b[0m\u001b[0;34m,\u001b[0m\u001b[0my\u001b[0m\u001b[0;34m\u001b[0m\u001b[0m\n",
      "\u001b[0;32m/opt/anaconda3/lib/python3.7/site-packages/fastai/vision/tta.py\u001b[0m in \u001b[0;36m_tta_only\u001b[0;34m(learn, ds_type, scale)\u001b[0m\n\u001b[1;32m     25\u001b[0m             \u001b[0;32mif\u001b[0m \u001b[0mflip\u001b[0m\u001b[0;34m:\u001b[0m \u001b[0mtfm\u001b[0m\u001b[0;34m.\u001b[0m\u001b[0mappend\u001b[0m\u001b[0;34m(\u001b[0m\u001b[0mflip_lr\u001b[0m\u001b[0;34m(\u001b[0m\u001b[0mp\u001b[0m\u001b[0;34m=\u001b[0m\u001b[0;36m1.\u001b[0m\u001b[0;34m)\u001b[0m\u001b[0;34m)\u001b[0m\u001b[0;34m\u001b[0m\u001b[0m\n\u001b[1;32m     26\u001b[0m             \u001b[0mds\u001b[0m\u001b[0;34m.\u001b[0m\u001b[0mtfms\u001b[0m \u001b[0;34m=\u001b[0m \u001b[0mtfm\u001b[0m\u001b[0;34m\u001b[0m\u001b[0m\n\u001b[0;32m---> 27\u001b[0;31m             \u001b[0;32myield\u001b[0m \u001b[0mget_preds\u001b[0m\u001b[0;34m(\u001b[0m\u001b[0mlearn\u001b[0m\u001b[0;34m.\u001b[0m\u001b[0mmodel\u001b[0m\u001b[0;34m,\u001b[0m \u001b[0mdl\u001b[0m\u001b[0;34m,\u001b[0m \u001b[0mpbar\u001b[0m\u001b[0;34m=\u001b[0m\u001b[0mpbar\u001b[0m\u001b[0;34m,\u001b[0m \u001b[0mactiv\u001b[0m\u001b[0;34m=\u001b[0m\u001b[0m_loss_func2activ\u001b[0m\u001b[0;34m(\u001b[0m\u001b[0mlearn\u001b[0m\u001b[0;34m.\u001b[0m\u001b[0mloss_func\u001b[0m\u001b[0;34m)\u001b[0m\u001b[0;34m)\u001b[0m\u001b[0;34m[\u001b[0m\u001b[0;36m0\u001b[0m\u001b[0;34m]\u001b[0m\u001b[0;34m\u001b[0m\u001b[0m\n\u001b[0m\u001b[1;32m     28\u001b[0m     \u001b[0;32mfinally\u001b[0m\u001b[0;34m:\u001b[0m \u001b[0mds\u001b[0m\u001b[0;34m.\u001b[0m\u001b[0mtfms\u001b[0m \u001b[0;34m=\u001b[0m \u001b[0mold\u001b[0m\u001b[0;34m\u001b[0m\u001b[0m\n\u001b[1;32m     29\u001b[0m \u001b[0;34m\u001b[0m\u001b[0m\n",
      "\u001b[0;32m/opt/anaconda3/lib/python3.7/site-packages/fastai/basic_train.py\u001b[0m in \u001b[0;36mget_preds\u001b[0;34m(model, dl, pbar, cb_handler, activ, loss_func, n_batch)\u001b[0m\n\u001b[1;32m     36\u001b[0m     \u001b[0;34m\"Tuple of predictions and targets, and optional losses (if `loss_func`) using `dl`, max batches `n_batch`.\"\u001b[0m\u001b[0;34m\u001b[0m\u001b[0m\n\u001b[1;32m     37\u001b[0m     res = [torch.cat(o).cpu() for o in\n\u001b[0;32m---> 38\u001b[0;31m            zip(*validate(model, dl, cb_handler=cb_handler, pbar=pbar, average=False, n_batch=n_batch))]\n\u001b[0m\u001b[1;32m     39\u001b[0m     \u001b[0;32mif\u001b[0m \u001b[0mloss_func\u001b[0m \u001b[0;32mis\u001b[0m \u001b[0;32mnot\u001b[0m \u001b[0;32mNone\u001b[0m\u001b[0;34m:\u001b[0m \u001b[0mres\u001b[0m\u001b[0;34m.\u001b[0m\u001b[0mappend\u001b[0m\u001b[0;34m(\u001b[0m\u001b[0mcalc_loss\u001b[0m\u001b[0;34m(\u001b[0m\u001b[0mres\u001b[0m\u001b[0;34m[\u001b[0m\u001b[0;36m0\u001b[0m\u001b[0;34m]\u001b[0m\u001b[0;34m,\u001b[0m \u001b[0mres\u001b[0m\u001b[0;34m[\u001b[0m\u001b[0;36m1\u001b[0m\u001b[0;34m]\u001b[0m\u001b[0;34m,\u001b[0m \u001b[0mloss_func\u001b[0m\u001b[0;34m)\u001b[0m\u001b[0;34m)\u001b[0m\u001b[0;34m\u001b[0m\u001b[0m\n\u001b[1;32m     40\u001b[0m     \u001b[0;32mif\u001b[0m \u001b[0mactiv\u001b[0m \u001b[0;32mis\u001b[0m \u001b[0;32mnot\u001b[0m \u001b[0;32mNone\u001b[0m\u001b[0;34m:\u001b[0m \u001b[0mres\u001b[0m\u001b[0;34m[\u001b[0m\u001b[0;36m0\u001b[0m\u001b[0;34m]\u001b[0m \u001b[0;34m=\u001b[0m \u001b[0mactiv\u001b[0m\u001b[0;34m(\u001b[0m\u001b[0mres\u001b[0m\u001b[0;34m[\u001b[0m\u001b[0;36m0\u001b[0m\u001b[0;34m]\u001b[0m\u001b[0;34m)\u001b[0m\u001b[0;34m\u001b[0m\u001b[0m\n",
      "\u001b[0;32m/opt/anaconda3/lib/python3.7/site-packages/fastai/basic_train.py\u001b[0m in \u001b[0;36m<listcomp>\u001b[0;34m(.0)\u001b[0m\n\u001b[1;32m     35\u001b[0m               activ:nn.Module=None, loss_func:OptLossFunc=None, n_batch:Optional[int]=None) -> List[Tensor]:\n\u001b[1;32m     36\u001b[0m     \u001b[0;34m\"Tuple of predictions and targets, and optional losses (if `loss_func`) using `dl`, max batches `n_batch`.\"\u001b[0m\u001b[0;34m\u001b[0m\u001b[0m\n\u001b[0;32m---> 37\u001b[0;31m     res = [torch.cat(o).cpu() for o in\n\u001b[0m\u001b[1;32m     38\u001b[0m            zip(*validate(model, dl, cb_handler=cb_handler, pbar=pbar, average=False, n_batch=n_batch))]\n\u001b[1;32m     39\u001b[0m     \u001b[0;32mif\u001b[0m \u001b[0mloss_func\u001b[0m \u001b[0;32mis\u001b[0m \u001b[0;32mnot\u001b[0m \u001b[0;32mNone\u001b[0m\u001b[0;34m:\u001b[0m \u001b[0mres\u001b[0m\u001b[0;34m.\u001b[0m\u001b[0mappend\u001b[0m\u001b[0;34m(\u001b[0m\u001b[0mcalc_loss\u001b[0m\u001b[0;34m(\u001b[0m\u001b[0mres\u001b[0m\u001b[0;34m[\u001b[0m\u001b[0;36m0\u001b[0m\u001b[0;34m]\u001b[0m\u001b[0;34m,\u001b[0m \u001b[0mres\u001b[0m\u001b[0;34m[\u001b[0m\u001b[0;36m1\u001b[0m\u001b[0;34m]\u001b[0m\u001b[0;34m,\u001b[0m \u001b[0mloss_func\u001b[0m\u001b[0;34m)\u001b[0m\u001b[0;34m)\u001b[0m\u001b[0;34m\u001b[0m\u001b[0m\n",
      "\u001b[0;31mRuntimeError\u001b[0m: _th_cat is not implemented for type torch.HalfTensor"
     ]
    }
   ],
   "source": [
    "model"
   ]
  },
  {
   "cell_type": "code",
   "execution_count": 52,
   "metadata": {},
   "outputs": [],
   "source": [
    "learn.data.test_dl.add_tfm(to_half)\n",
    "p,t = learn.get_preds(ds_type=DatasetType.Test)"
   ]
  },
  {
   "cell_type": "markdown",
   "metadata": {},
   "source": [
    "# Sub File"
   ]
  },
  {
   "cell_type": "code",
   "execution_count": 61,
   "metadata": {},
   "outputs": [
    {
     "name": "stdout",
     "output_type": "stream",
     "text": [
      "(11702, 28)\n"
     ]
    }
   ],
   "source": [
    "preds = to_np(p.sigmoid())  #Check if we are using focal loss or BCE.\n",
    "threshold = 0.4 #ths\n",
    "print(preds.shape)\n",
    "classes = np.array(data.classes)\n",
    "# classes = array(['16', '0', '7', '1', '2', '5', '18', '25', '23', '21', '24', '6', '11', '3', '12', '13', '14', '4', '20', '22',\n",
    "#        '17', '19', '8', '9', '10', '26', '27', '15'], dtype='<U2')\n",
    "res = np.array([\" \".join(classes[(np.where(pp>threshold))])for pp in preds])"
   ]
  },
  {
   "cell_type": "code",
   "execution_count": 62,
   "metadata": {},
   "outputs": [
    {
     "data": {
      "text/plain": [
       "array(['0', '1', '2', '3', '4', '5', '6', '7', '8', '9', '10', '11', '12', '13', '14', '15', '16', '17', '18', '19',\n",
       "       '20', '21', '22', '23', '24', '25', '26', '27'], dtype='<U2')"
      ]
     },
     "execution_count": 62,
     "metadata": {},
     "output_type": "execute_result"
    }
   ],
   "source": [
    "classes"
   ]
  },
  {
   "cell_type": "code",
   "execution_count": 63,
   "metadata": {},
   "outputs": [],
   "source": [
    "frame = pd.DataFrame(np.array([test_names, res]).T, columns = ['Id','Predicted'])\n",
    "frame.to_csv('protein_r18.csv', index=False)"
   ]
  },
  {
   "cell_type": "code",
   "execution_count": 64,
   "metadata": {},
   "outputs": [
    {
     "data": {
      "text/html": [
       "<div>\n",
       "<style scoped>\n",
       "    .dataframe tbody tr th:only-of-type {\n",
       "        vertical-align: middle;\n",
       "    }\n",
       "\n",
       "    .dataframe tbody tr th {\n",
       "        vertical-align: top;\n",
       "    }\n",
       "\n",
       "    .dataframe thead th {\n",
       "        text-align: right;\n",
       "    }\n",
       "</style>\n",
       "<table border=\"1\" class=\"dataframe\">\n",
       "  <thead>\n",
       "    <tr style=\"text-align: right;\">\n",
       "      <th></th>\n",
       "      <th>Id</th>\n",
       "      <th>Predicted</th>\n",
       "    </tr>\n",
       "  </thead>\n",
       "  <tbody>\n",
       "    <tr>\n",
       "      <th>0</th>\n",
       "      <td>00008af0-bad0-11e8-b2b8-ac1f6b6435d0</td>\n",
       "      <td>2</td>\n",
       "    </tr>\n",
       "    <tr>\n",
       "      <th>1</th>\n",
       "      <td>0000a892-bacf-11e8-b2b8-ac1f6b6435d0</td>\n",
       "      <td>5 25</td>\n",
       "    </tr>\n",
       "    <tr>\n",
       "      <th>2</th>\n",
       "      <td>0006faa6-bac7-11e8-b2b7-ac1f6b6435d0</td>\n",
       "      <td>0 5 25</td>\n",
       "    </tr>\n",
       "    <tr>\n",
       "      <th>3</th>\n",
       "      <td>0008baca-bad7-11e8-b2b9-ac1f6b6435d0</td>\n",
       "      <td>0 16 17 18</td>\n",
       "    </tr>\n",
       "    <tr>\n",
       "      <th>4</th>\n",
       "      <td>000cce7e-bad4-11e8-b2b8-ac1f6b6435d0</td>\n",
       "      <td>7 23</td>\n",
       "    </tr>\n",
       "  </tbody>\n",
       "</table>\n",
       "</div>"
      ],
      "text/plain": [
       "                                     Id   Predicted\n",
       "0  00008af0-bad0-11e8-b2b8-ac1f6b6435d0           2\n",
       "1  0000a892-bacf-11e8-b2b8-ac1f6b6435d0        5 25\n",
       "2  0006faa6-bac7-11e8-b2b7-ac1f6b6435d0      0 5 25\n",
       "3  0008baca-bad7-11e8-b2b9-ac1f6b6435d0  0 16 17 18\n",
       "4  000cce7e-bad4-11e8-b2b8-ac1f6b6435d0        7 23"
      ]
     },
     "execution_count": 64,
     "metadata": {},
     "output_type": "execute_result"
    }
   ],
   "source": [
    "frame.head()"
   ]
  },
  {
   "cell_type": "code",
   "execution_count": null,
   "metadata": {},
   "outputs": [],
   "source": []
  }
 ],
 "metadata": {
  "kernelspec": {
   "display_name": "Python 3",
   "language": "python",
   "name": "python3"
  },
  "language_info": {
   "codemirror_mode": {
    "name": "ipython",
    "version": 3
   },
   "file_extension": ".py",
   "mimetype": "text/x-python",
   "name": "python",
   "nbconvert_exporter": "python",
   "pygments_lexer": "ipython3",
   "version": "3.7.1"
  }
 },
 "nbformat": 4,
 "nbformat_minor": 2
}
